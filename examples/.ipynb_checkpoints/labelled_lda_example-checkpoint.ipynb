{
 "cells": [
  {
   "cell_type": "code",
   "execution_count": 1,
   "metadata": {},
   "outputs": [
    {
     "name": "stderr",
     "output_type": "stream",
     "text": [
      "[nltk_data] Downloading package reuters to\n",
      "[nltk_data]     /Users/tomoki.otsuki/nltk_data...\n",
      "[nltk_data]   Package reuters is already up-to-date!\n"
     ]
    }
   ],
   "source": [
    "from scipy import sparse as sps\n",
    "import numpy as np\n",
    "\n",
    "import nltk\n",
    "nltk.download('reuters')\n",
    "from nltk.corpus import reuters"
   ]
  },
  {
   "cell_type": "code",
   "execution_count": 2,
   "metadata": {},
   "outputs": [],
   "source": [
    "from sklearn.model_selection import train_test_split\n",
    "from lda11.labelled_lda import LabelledLDA"
   ]
  },
  {
   "cell_type": "code",
   "execution_count": 3,
   "metadata": {},
   "outputs": [],
   "source": [
    "file_ids = reuters.fileids()"
   ]
  },
  {
   "cell_type": "code",
   "execution_count": 4,
   "metadata": {},
   "outputs": [],
   "source": [
    "X = []\n",
    "y = []\n",
    "for i, fid in enumerate(file_ids):\n",
    "    doc = reuters.words(fid)\n",
    "    X.append([word.lower() for word in doc])\n",
    "    y.append(reuters.categories(fid))\n",
    "    reuters.words(fid).close()"
   ]
  },
  {
   "cell_type": "code",
   "execution_count": 5,
   "metadata": {},
   "outputs": [
    {
     "name": "stdout",
     "output_type": "stream",
     "text": [
      "['thai', 'trade', 'deficit', 'widens', 'in', 'first', 'quarter', 'thailand', \"'\", 's', 'trade', 'deficit', 'widened', 'to', '4', '.', '5', 'billion', 'baht', 'in', 'the', 'first', 'quarter', 'of', '1987', 'from', '2', '.', '1', 'billion', 'a', 'year', 'ago', ',', 'the', 'business', 'economics', 'department', 'said', '.', 'it', 'said', 'janunary', '/', 'march', 'imports', 'rose', 'to', '65', '.', '1', 'billion', 'baht', 'from', '58', '.', '7', 'billion', '.', 'thailand', \"'\", 's', 'improved', 'business', 'climate', 'this', 'year', 'resulted', 'in', 'a', '27', 'pct', 'increase', 'in', 'imports', 'of', 'raw', 'materials', 'and', 'semi', '-', 'finished', 'products', '.', 'the', 'country', \"'\", 's', 'oil', 'import', 'bill', ',', 'however', ',', 'fell', '23', 'pct', 'in', 'the', 'first', 'quarter', 'due', 'to', 'lower', 'oil', 'prices', '.', 'the', 'department', 'said', 'first', 'quarter', 'exports', 'expanded', 'to', '60', '.', '6', 'billion', 'baht', 'from', '56', '.', '6', 'billion', '.', 'export', 'growth', 'was', 'smaller', 'than', 'expected', 'due', 'to', 'lower', 'earnings', 'from', 'many', 'key', 'commodities', 'including', 'rice', 'whose', 'earnings', 'declined', '18', 'pct', ',', 'maize', '66', 'pct', ',', 'sugar', '45', 'pct', ',', 'tin', '26', 'pct', 'and', 'canned', 'pineapples', 'seven', 'pct', '.', 'products', 'registering', 'high', 'export', 'growth', 'were', 'jewellery', 'up', '64', 'pct', ',', 'clothing', '57', 'pct', 'and', 'rubber', '35', 'pct', '.']\n"
     ]
    }
   ],
   "source": [
    "print(X[3])"
   ]
  },
  {
   "cell_type": "code",
   "execution_count": 6,
   "metadata": {},
   "outputs": [
    {
     "name": "stdout",
     "output_type": "stream",
     "text": [
      "['corn', 'grain', 'rice', 'rubber', 'sugar', 'tin', 'trade']\n"
     ]
    }
   ],
   "source": [
    "print(y[3])"
   ]
  },
  {
   "cell_type": "code",
   "execution_count": 7,
   "metadata": {},
   "outputs": [],
   "source": [
    "vocabulary = list(sorted({w for doc in X for w in doc}))\n",
    "categories = list(sorted({cat for cats in y for cat in cats}))\n",
    "\n",
    "vocabulary_to_index = { w:i for i, w in enumerate(vocabulary)}\n",
    "category_to_index = { cat:i for i, cat in enumerate(categories)}"
   ]
  },
  {
   "cell_type": "code",
   "execution_count": 8,
   "metadata": {},
   "outputs": [],
   "source": [
    "def codes_to_csr(codes, mapper):\n",
    "    rows = []\n",
    "    cols = []\n",
    "    for i, row in enumerate(codes):\n",
    "        for d in row:\n",
    "            cols.append(mapper[d])\n",
    "            rows.append(i)\n",
    "    return sps.csr_matrix(\n",
    "        (np.ones(len(rows), dtype=np.int32), (rows, cols)), shape=(len(codes), len(mapper))\n",
    "    )"
   ]
  },
  {
   "cell_type": "code",
   "execution_count": 9,
   "metadata": {},
   "outputs": [],
   "source": [
    "X = codes_to_csr(X, vocabulary_to_index)\n",
    "y = codes_to_csr(y, category_to_index)"
   ]
  },
  {
   "cell_type": "code",
   "execution_count": 10,
   "metadata": {},
   "outputs": [],
   "source": [
    "# include \"common\" tag.\n",
    "# See e.g., https://shuyo.hatenablog.com/entry/20130228/lda\n",
    "y = sps.hstack([y, np.ones((y.shape[0], 1))], format='csr')"
   ]
  },
  {
   "cell_type": "code",
   "execution_count": 11,
   "metadata": {},
   "outputs": [],
   "source": [
    "X_train, X_test, y_train, y_test = train_test_split(X, y, random_state=42)"
   ]
  },
  {
   "cell_type": "code",
   "execution_count": 12,
   "metadata": {},
   "outputs": [
    {
     "name": "stderr",
     "output_type": "stream",
     "text": [
      "100%|██████████| 500/500 [01:00<00:00,  8.28it/s]\n"
     ]
    },
    {
     "data": {
      "text/plain": [
       "<lda11.labelled_lda.LabelledLDA at 0x1206a0160>"
      ]
     },
     "execution_count": 12,
     "metadata": {},
     "output_type": "execute_result"
    }
   ],
   "source": [
    "# AD-LDA feature is available here, too\n",
    "lda_model = LabelledLDA(n_iter=500, n_workers=2)\n",
    "lda_model.fit(X_train, y_train)"
   ]
  },
  {
   "cell_type": "code",
   "execution_count": 13,
   "metadata": {},
   "outputs": [],
   "source": [
    "phi = lda_model.phi.transpose()"
   ]
  },
  {
   "cell_type": "code",
   "execution_count": 14,
   "metadata": {},
   "outputs": [
    {
     "name": "stdout",
     "output_type": "stream",
     "text": [
      " ==== acq === \n",
      "['.', 'the', ',', 'of', 'to', 'said', 'and', 'a', 'it', ';', 'lt', '&', 'in', '>', 'for', 'dlrs', 'its', 'company', 'inc', 'mln', 'shares', \"'\", 's', '-', 'corp', 'pct', 'has', 'offer', 'is', 'stock']\n",
      " ==== alum === \n",
      "[',', 'aluminium', 'tonnes', '.', 'aluminum', 'plant', 'alcan', '000', 'smelter', 'of', 'mln', 'lme', 'prices', 'company', 'contract', '1', 'capacity', 'new', 'metal', 'lt', ';', 'alumina', '&', 'primary', '(', 'alcoa', 'state', 'ltd', 'cents', 'output']\n",
      " ==== barley === \n",
      "[',', 'of', 'barley', '000', 'tonnes', 'for', '.', 'the', 'to', 'export', 'ecus', 'wheat', 'ec', 'at', '-', 'and', 'said', 'maize', 'market', 'free', 'tonne', 'licences', 'french', 'a', 'saudi', 'arabia', 'trade', 'sources', 'per', 'rebate']\n",
      " ==== bop === \n",
      "['.', 'billion', 'in', 'the', ',', 'a', 'of', 'dlrs', 'deficit', 'surplus', 'mln', 'to', 'from', 'trade', 'account', 'february', 'january', 'current', '2', 'and', '1986', '1', 'year', 's', '4', 'said', 'quarter', '7', 'with', '6']\n",
      " ==== carcass === \n",
      "[',', '.', 'beef', 'meat', 'ec', 'and', 'to', 'u', 'tonnes', 's', '(', 'farm', 'japan', '000', 'at', 'pork', '1', 'agriculture', 'food', 'the', 'plant', 'poultry', 'union', 'farmers', 'inspection', 'exports', 'industry', 'quota', 'for', 'usda']\n",
      " ==== castor-oil === \n",
      "['üside', 'emulator', 'emphasises', 'emphasising', 'emphasize', 'emphasized', 'emphasizing', 'empi', 'empire', 'employ', 'employed', 'employee', 'employees', 'employement', 'employer', 'employers', 'employes', 'employess', 'employing', 'employment', 'employs', 'empowering', 'empowers', 'empresa', 'empress', 'empt', 'emptied', 'empty', 'emr', 'emphasised']\n",
      " ==== cocoa === \n",
      "[',', 'cocoa', 'the', 'buffer', 'stock', 'of', '.', 'to', 'tonnes', 'icco', 'and', 'delegates', '000', 'international', 'rules', 'be', 'manager', 'prices', 'are', 'producers', 'market', 'council', '1', 'at', 'in', 'they', 'will', 'is', 'week', 'agreement']\n",
      " ==== coconut === \n",
      "['coconut', 'romero', 'philippine', 'copra', 'exports', 'philippines', 'ec', 'bill', 'solv', 'pca', 'products', 'meal', 'tonnes', 'aflatoxin', 'ex', 'authority', 'land', 'fats', 'mln', 'saturated', 'jose', 'tax', 'soybean', 'process', 'product', 'edible', 'ucap', 'fibre', 'sri', 'oils']\n",
      " ==== coconut-oil === \n",
      "['aug', 'seeds', 'fosfa', 'sep', 'onwards', 'metric', 'tons', 'associations', 'operators', 'advised', 'adopt', 'transactions', 'sept', 'federation', 'contract', 'traders', 'changed', 'started', 'bring', 'shipment', 'london', 'previously', 'coconut', 'commodity', 'dutch', 'account', 'change', 'terms', 'least', 'line']\n",
      " ==== coffee === \n",
      "['coffee', ',', '.', 'to', 'quotas', 'ico', 'export', 'the', 'brazil', 'quota', 'of', 'producers', 'bags', 'meeting', '(', 'talks', 'prices', 'on', 'producer', 'at', 'colombia', 'international', 'said', 'delegates', ')', 'mln', 'new', 'market', 'for', 'ibc']\n",
      " ==== copper === \n",
      "[',', 'copper', '.', 'to', 'of', '000', 'in', 'a', 'mine', 'tons', 'at', 'from', 'tonnes', 'zambia', 'production', 'said', 'by', 'lt', 'price', 'mining', '&', 'newmont', 'its', ';', 'mln', 'it', 'phelps', 'zccm', 'december', 'magma']\n",
      " ==== copra-cake === \n",
      "['rupiah', 'copra', 'plywood', '075', 'fertile', 'underlines', 'hoppers', '720', 'devaluation', 'insecticides', 'importing', '695', 'polysaturated', 'feeds', 'overbought', '817', 'intercrop', 'metres', 'whoever', 'devilish', 'crumble', 'sun', 'planted', 'moulds', 'drying', 'carcinogenic', 'stocking', 'square', '641', 'oxford']\n",
      " ==== corn === \n",
      "['.', ',', 'corn', 'the', 'to', 's', 'u', 'of', 'for', 'tonnes', '000', 'usda', 'acres', 'maize', 'said', 'ec', 'per', 'farm', 'program', 'agriculture', 'mln', 'department', 'delivery', 'be', 'ussr', 'dlrs', 'farmers', 'grain', 'gulf', 'price']\n",
      " ==== cotton === \n",
      "['.', '/', ',', '87', 'nil', '-', '1', '2', '0', '09', '4', '5', 'cotton', '3', '1986', '7', '6', '03', '8', '04', '--', '86', '(', 'mln', 'stocks', '9', '1985', 'in', 'o', 'total']\n",
      " ==== cotton-oil === \n",
      "['offers', 'egypt', 'landed', 'contamination', 'radioactive', 'retender', 'rejects', 'clause', 'unspecified', 'renewal', 'submitted', 'cottonseed', 'material', 'amounts', 'contract', 'old', 'terms', 'include', 'free', 'sunflowerseed', '24', 'offer', 'traders', 'rejected', 'yesterday', 'tender', 'asked', 'march', 'all', 'prepared']\n",
      " ==== cpi === \n",
      "['.', 'pct', 'in', 'the', ',', '0', 'february', 'year', 'inflation', 'and', '1986', 'to', '-', 'january', 'a', 'of', '1', 'prices', 'consumer', '3', '4', 'march', '2', 'index', 'said', 'rose', '5', 'rise', 'was', 'price']\n",
      " ==== cpu === \n",
      "['bdm', 'utilization', 'metallic', 'mineral', 'residential', 'materials', 'divs', 'increases', '77', 'marked', 'annual', 'manufacturing', 'statistics', 'rises', 'led', 'construction', 'building', 'class', 'qtrly', 'whole', 'capacity', 'industries', 'international', '3', 'fourth', 'b', 'canada', 'third', 'quarter', 'agency']\n",
      " ==== crude === \n",
      "['.', 'oil', ',', 'the', 'to', 'crude', 'a', 'opec', 'said', 'mln', 'dlrs', 'of', 'prices', 'bpd', 'and', 'in', '-', 'barrel', 'for', '000', 'production', 'barrels', 's', 'lt', ';', '&', 'at', 'its', 'by', 'price']\n",
      " ==== dfl === \n",
      "['dutch', 'cpb', 'guilder', 'guilders', 'netherlands', 'mark', 'amro', 'flows', 'nelissen', 'keeps', 'deflation', 'critics', 'nederland', 'gnp', 'slight', '113', 'flexiblility', '1675', 'geertsema', 'sarvaas', 'pegging', 'unsympathetic', 'independently', 'du', 'contrasting', 'slackness', 'overcautious', 'unconditionally', 'freely', 'reins']\n",
      " ==== dlr === \n",
      "['.', 'the', 'dollar', ',', 'yen', 'of', 'to', 'bank', 'said', 'japan', 's', 'dealers', 'in', 'u', 'and', 'currency', 'at', '-', 'was', 'against', 'central', 'market', 'trade', 'dollars', '1', 'tokyo', 'further', 'not', 'around', 'after']\n",
      " ==== dmk === \n",
      "['.', '/', 'the', 'bank', ',', 'mark', 'dollar', 'rate', 'lira', 'central', 'of', 'a', 'from', 'banks', 'set', 'to', 'swiss', 'turkish', 'transamerica', 'leutwiler', 'previous', 'down', 'for', 'seidman', 'national', 'warrants', 'fdic', 'rates', 'dm', '430']\n",
      " ==== earn === \n",
      "[',', '.', 'vs', 'mln', 'cts', '000', 'net', 'dlrs', '1', 'loss', 'shr', ';', 'lt', '&', '>', '2', 'profit', 'qtr', '3', 'of', 'revs', 'year', '4', '5', '6', '-', 'inc', 'and', '7', 'billion']\n",
      " ==== fuel === \n",
      "['.', ',', 'dlrs', 'pct', 'sulphur', 'cts', 'up', 'to', 'budget', 'fuel', '75', 'prices', '2', 'the', '25', '5', '50', '0', 'for', 'barrel', 'said', 'one', '1', 'oil', 'and', 'a', 'new', ';', '20', '19']\n",
      " ==== gas === \n",
      "['.', ',', 'mln', 'the', 'gasoline', 'from', 'said', 'oil', 'pct', 'in', 'to', 'crude', 'barrels', '1', 'stocks', '3', 'up', 'year', '2', 'bpd', 'off', 'and', 'for', 'octane', 'a', 'demand', 'petroleum', 'week', '4', '0']\n",
      " ==== gnp === \n",
      "['.', 'pct', 'in', 'the', ',', 'growth', 'year', 'of', '2', 'and', '1', 'economic', '5', 'this', 'economy', '1987', '0', '3', '1986', 'forecast', 'a', 'quarter', 'by', 'gdp', 'gnp', 'domestic', 'rise', 'inflation', 'billion', 's']\n",
      " ==== gold === \n",
      "['.', ',', 'of', 'gold', 'the', 'said', 'a', 'and', 'in', '000', 'at', 'mine', 'to', 'ounces', 'it', 'per', '-', 'ounce', '0', 'ton', 'lt', ';', '&', 'ore', '>', 'pct', 'reserves', 'production', 'mln', '1']\n",
      " ==== grain === \n",
      "['.', ',', 'the', 'tonnes', 'and', 'mln', 'in', '/', 'of', 'grain', 'wheat', '-', 'for', '1', 'at', '000', 's', 'said', 'from', '1986', '87', '0', 'pct', 'crop', '5', 'last', 'u', 'year', 'usda', 'were']\n",
      " ==== groundnut === \n",
      "['bhp', 'utah', 'waiver', 'peanuts', 'tracomin', 'clemente', 'di', 'minerals', '000', 'mines', 'salomon', 'coal', 'arnott', 'copper', 'groundnut', 'edible', 'crop', 'ccc', 'mine', 'curry', 'lb', 'ramirez', 'queensland', 'sugar', 'structure', 'iron', 'executive', 'pty', 'merge', '264']\n",
      " ==== groundnut-oil === \n",
      "['expellers', 'pollard', '313', 'levied', 'rpt', '264', 'taxes', '661', 'sun', '308', '201', '189', '709', '172', '342', 'soyabeans', '119', 'fishoil', '371', '227', '139', '124', 'animal', '325', '137', 'component', 'bran', '265', '89', '47']\n",
      " ==== heat === \n",
      "['oil', 'japanese', 'heating', 'traders', 'price', 'futures', 'contract', 'barge', 'york', 'apex', 'exxon', 'gallon', 'sun', 'lt', '&', 'companies', ';', 'overseas', 'cts', 'new', 'supplies', '>', 'specialists', 'co', 'nymex', 'firms', 'gains', 'businesses', 'unchanged', 'harbor']\n",
      " ==== hog === \n",
      "['pork', 'nppc', 'program', '(', 'producers', 'council', 'hogs', 'cipec', 'drug', 'delegates', 'pigs', 'canadian', 'committee', 'hog', 'd', 'national', 'congress', 'senate', 'use', 'prv', 'pseudorabies', 'safe', 'eradication', 'commission', 'weight', 'senators', 'court', 'project', 'approved', 'dekalb']\n",
      " ==== housing === \n",
      "['.', ',', 'pct', 'in', 'units', '1', 'january', 'to', 'mln', 'the', 'a', '000', '-', 'of', '6', 'family', 'from', 'fell', 'starts', 'housing', '4', 'seasonally', 'adjusted', 's', 'rose', 'february', 'u', 'rate', '2', 'december']\n",
      " ==== income === \n",
      "['.', 'in', 'pct', ',', 'rise', '7', 'january', 'dlrs', '6', 'earnings', 'rose', 'february', 'billion', 'tax', 'department', '0', 'after', 'year', '5', '-', 'block', '3', 'average', 'up', 'income', 'april', 'personal', 'underlying', 'wage', 'u']\n",
      " ==== instal-debt === \n",
      "['.', 'dlrs', 'credit', 'in', 'mln', 'january', 'billion', 'consumer', 'rose', 'by', '1', 'after', 'u', 'february', 'december', 's', 'fed', 'three', '536', 'jan', 'end', '77', 'stg', 'fell', 'outstanding', 'vs', 'million', 'gain', 'cfcs', 'midway']\n",
      " ==== interest === \n",
      "['.', 'pct', '-', 'the', 'rate', ',', 'to', 'bank', 'rates', '/', 'of', '5', '1', 'from', 'market', 'at', 'fed', '3', '4', 'said', '7', 'banks', 'interest', 'prime', 'cut', 'money', 'billion', 'on', '6', 'week']\n",
      " ==== ipi === \n",
      "['.', 'pct', 'in', ',', 'the', 'production', 'january', 'industrial', 'a', 'output', 'and', 'year', '-', 'february', '0', '1', '3', '2', 'from', 'of', 'was', '4', 'rose', 'fell', 'december', '5', 'said', 'after', 'rise', 'index']\n",
      " ==== iron-steel === \n",
      "['steel', '.', ',', 'and', 'mln', 'tonnes', 'to', '-', 'will', 'from', 'iron', 'lt', ';', '&', 'it', 'by', 'india', 'said', 'prices', 'pct', 'usx', 'corp', '1', 'products', '>', '/', 'ore', 'south', 'production', '000']\n",
      " ==== jet === \n",
      "['contract', 'fuel', 'austerity', 'defense', 'texaco', 'awarded', '84', 'tx', 'logistics', 'procurement', 'multi', 'jet', 'work', 'paralyzed', 'interviewer', 'conserve', 'weekdays', 'airliners', 'petrol', 'weekends', 'adopts', 'centred', 'refining', '1988', 'banned', 'holidays', 'routes', 'aviation', 'declaring', 'ships']\n",
      " ==== jobs === \n",
      "['.', ',', 'the', 'in', 'pct', 'unemployment', 'to', 'of', '2', '000', 'from', 'february', 'mln', 'march', '3', 'was', '1', 'a', 'january', 'said', 'year', 'week', 'fell', 'at', '-', 's', 'and', 'employment', 'rate', '9']\n",
      " ==== l-cattle === \n",
      "['cattle', 'feed', 'are', 'lighter', 'placements', 'marketings', 'live', 'beef', 'being', 'report', 'states', 'pasture', 'feedlots', 'feedlot', 'weight', 'pennsylvania', 'usda', 'normal', 'free', 'plant', 'lbs', 'tuberculosis', 'noted', 'mexican', 'wheat', 'steers', 'many', 'placed', 'enterprises', 'petroleum']\n",
      " ==== lead === \n",
      "['lead', 'metal', 'zinc', 'traders', 'stg', 'smelter', 'stocks', 'tonnes', 'lme', 'contract', 'india', 'unocal', 'demand', '000', 'brunswick', 'grant', 'british', 'mine', 'austmet', 'tons', 'buying', 'short', 'supply', 'k', 'shale', 'asturiana', 'noranda', 'development', 'corp', 'smelting']\n",
      " ==== lei === \n",
      "['.', 'pct', 'in', '0', ',', 'index', 'leading', 'january', 'indicators', 'after', '1', 'december', '4', 'rise', 'february', 'indicator', '7', 'rose', '5', '2', 's', 'canada', '3', 'fell', 'u', '-', 'revised', 'november', 'orders', '9']\n",
      " ==== lin-oil === \n",
      "['pollard', 'levied', 'expellers', '313', 'rpt', '264', 'taxes', '872', '655', 'jul', 'linoil', 'sunoil', '145', 'future', 'bran', '290', '320', '102', '63', 'shipment', '149', '182', '99', 'those', 'vegetable', 'minimum', 'mar', '98', '218', '107']\n",
      " ==== livestock === \n",
      "[',', '.', 'and', 'cattle', '000', 'of', 'mln', 'a', 'to', 'head', 'lbs', 'ago', 'department', 'at', 'futures', 'hog', 'texas', 'slaughter', '1', 'agriculture', 'are', 'u', 'year', 'dairy', 'exchange', 'traders', 's', '-', 'ccc', 'march']\n",
      " ==== lumber === \n",
      "['lumber', 'mln', 'canadian', 'export', 'credit', 'dlrs', 'plywood', 'u', 'canada', 'guarantees', 'forest', 'zimmerman', 'softwood', 'wood', 'usda', 'products', 'timber', 'charge', '15', 'sims', 'commerce', 'department', 'niedermeyer', 'forests', 'guarantee', 'exporters', 'announcement', 'agreed', 'sales', 'partnership']\n",
      " ==== meal-feed === \n",
      "['.', ',', 'tonnes', 'in', '/', 'to', 'from', 'mln', '0', 'pct', 'and', '1986', 'meal', 'feed', '87', 'january', 'for', '2', 'of', 'imports', 'credit', 'against', 'u', 'fell', 'rose', '1985', 'soymeal', 'sales', 'use', 'december']\n",
      " ==== money-fx === \n",
      "['.', 'the', 'of', 'bank', 'in', 'mln', ',', 'stg', 'market', '-', 'at', 'dollar', 'to', 'money', 'exchange', 'u', 'and', 'currency', '/', 'said', 'central', 'a', 'rate', 'pct', 'it', 's', 'rates', 'billion', 'with', 'today']\n",
      " ==== money-supply === \n",
      "['.', 'in', ',', 'the', 'dlrs', '-', 'billion', 'pct', '1', 'to', 'of', 'mln', 'm', 'a', 'money', 'week', 'bank', 'fed', 's', 'from', 'and', '3', '2', 'january', 'supply', 'rose', 'february', 'said', 'year', 'on']\n",
      " ==== naphtha === \n",
      "['naphtha', 'btx', 'venezuelan', 'inelectra', 'xylene', 'hydrotreater', 'litre', 'corpoven', 'benzene', 'palito', 'hydrodealkylation', 'toluene', 'kellog', 'aromatic', 'orthoxylene', 'aromatics', 'revamp', 'isomerization', 'fractionation', 'installed', 'extraction', 'el', 'molasses', 'diesel', 'telecommunication', 'feed', 'performed', 'raises', 'spares', 'o']\n",
      " ==== nat-gas === \n",
      "['gas', '.', ',', 'of', 'oil', 'in', 'and', 'the', 'mln', 'lt', ';', 'said', '&', 'natural', 'from', '>', 'reserves', 'it', 'feet', 'dlrs', 'exploration', 'cubic', 'a', 'barrels', 'pct', 'energy', 'billion', 'corp', 'company', '1986']\n",
      " ==== nickel === \n",
      "['nickel', 'nmic', 'tonnes', 'firm', '000', 'iraqi', 'mining', 'offers', 'soviet', 'iranian', 'mint', 'refinery', 'communique', 'troops', 'sumitomo', 'philippine', 'output', 'valentchits', 'pnb', 'dbp', 'occupied', 'iranians', 'saft', 'metal', 'forces', 'philippines', 'calendar', 'outokumpu', 'tsvetmetpromexport', 'mine']\n",
      " ==== nkr === \n",
      "['crown', '(', ')', 'crowns', 'basket', 'norway', 'pressure', 'ease', 'sells', 'finland', 'reckitt', 'colman', 'norwegian', 'weights', '19', 'weightings', '109', 'defending', 'swedish', 'piecemeal', 'percentages', '^', 'revises', 'threatens', 'respective', 'danish', 'oslo', 'match', 'declined', 'whenever']\n",
      " ==== nzdlr === \n",
      "['bayliss', 'depreciation', 'len', 'unavoidable', 'macro', 'impact', 'failed', 'minimise', 'lower', 'urgently', 'surcharge', 'soundly', 'deficiency', 'anti', 'ratios', 'reliance', 'unsuccessful', 'preferred', 'emphasis', 'z', 'insufficient', 'zealand', 'economist', 'solve', 'tariffs', 'belief', 'inflationary', 'independent', 'deficit', 'urges']\n",
      " ==== oat === \n",
      "['loan', 'oecf', 'pcr', 'malaysia', 'matsuya', '42', 'eastern', 'appraising', 'trengganu', 'petronas', 'utilisation', 'kertih', 'peninsular', 'contruction', 'johor', 'takashi', 'scm', 'posted', 'households', 'coupon', 'grace', 'disbursed', 'viable', 'town', 'phase', 'technically', 'economically', '25', '381', 'carry']\n",
      " ==== oilseed === \n",
      "['land', 'grain', 'china', 'pct', 'farmers', 'storage', 'brazil', 'oilseeds', 'mln', 'crops', 'five', 'oilseed', 'prices', 'them', 'png', 'farmland', 'reserves', 'agriculture', 'city', 'talks', 'cargill', 'crop', 'ziering', 'strike', ':', 'texas', 'weather', 'areas', 'alberta', 'harvest']\n",
      " ==== orange === \n",
      "[',', '.', 'orange', 'juice', '1', 'u', 's', 'gallons', 'department', 'frozen', 'brazilian', 'estimate', 'imports', 'crop', 'fcoj', 'duties', 'commerce', 'on', 'dumping', 'april', 'concentrated', 'usda', 'florida', '/', 'per', 'ruling', 'brazil', 'set', 'was', 'box']\n",
      " ==== palladium === \n",
      "['asean', 'looming', 'your', 'brunei', 'fuelled', 'contemplated', 'diversify', 'manufactures', 'stem', 'southeast', 'necessarily', 'rely', 'thailand', 'malaysia', 'shultz', 'clearly', 'adjustments', 'indonesia', 'simply', 'george', 'singapore', 'warns', 'able', 'resulted', 'importance', 'rapidly', 'look', 'philippines', 'hard', 'asian']\n",
      " ==== palm-oil === \n",
      "[',', 'oil', '.', 'palm', 'tonnes', 'to', 'and', 'in', 'from', 'indonesia', '000', 'of', 'tonne', 'at', 'import', 'mln', 'for', ')', 'traders', 'olein', 'ringgit', 'per', '(', 'rbd', 'said', 'stocks', 'february', 'april', 'output', 'malaysia']\n",
      " ==== palmkernel === \n",
      "['victims', 'wollo', 'illubabor', 'displaced', 'cyclone', 'vanuatu', 'families', 'approves', 'worth', 'people', 'addition', '583', 'organization', 'emergency', 'mozambique', 'malawi', 'ethiopia', 'fao', 'aid', '340', 'further', 'united', 'approved', 'nations', 'pacific', 'food', 'regions', 'include', '225', 'sri']\n",
      " ==== pet-chem === \n",
      "[',', '.', ';', 'lt', '&', 'chemical', 'dlrs', '>', 'dow', 'prices', 'eddie', 'crazy', 'co', '>,', 'petrochemical', 'plant', 'increase', 'corp', 'mln', 'ethylene', 'cts', 'pound', 'tonnes', 'will', 'entertainment', 'marketing', 'preussag', 'unit', 'per', 'products']\n",
      " ==== platinum === \n",
      "['platinum', 'tvx', 'pct', 'gold', 'clark', 'increase', '(', 'british', 'ounces', 'silver', ')', '000', 'produce', 'australian', '1', 'matthey', 'hallmarked', 'assayed', 'assay', 'grams', 'articles', 'pires', 'teles', 'migrant', 'offices', 'weight', 'marked', 'ounce', 'items', 'johnson']\n",
      " ==== potato === \n",
      "['futures', 'potato', 'stg', 'per', 'cwt', 'acre', 'estimated', 'department', 'acres', 'traded', '(', 'potatoes', 'pmb', 'lpfa', 'spring', 'physical', '--', '),', '100', 'harvested', 'alert', 'usda', 'agriculture', 'harris', 'previously', 'parsley', 'colorado', 'beetles', 'beetle', 'lbs']\n",
      " ==== propane === \n",
      "['lpg', 'saudi', 'dlrs', '/', 'propane', 'price', 'prices', 'arabia', 'butane', 'japan', 'traders', 'sources', 'gulf', '(', '1', 'gsp', 'sea', 'north', '..............', 'tonne', '123', '..........', ')........', 'petromin', 'cargoes', 'shell', 'fob', 'mediterranean', 'bp', 'posted']\n",
      " ==== rand === \n",
      "['üside', 'emulator', 'emphasises', 'emphasising', 'emphasize', 'emphasized', 'emphasizing', 'empi', 'empire', 'employ', 'employed', 'employee', 'employees', 'employement', 'employer', 'employers', 'employes', 'employess', 'employing', 'employment', 'employs', 'empowering', 'empowers', 'empresa', 'empress', 'empt', 'emptied', 'empty', 'emr', 'emphasised']\n",
      " ==== rape-oil === \n",
      "['20', 'rapeseed', 'stc', 'traders', 'sunflower', 'optional', 'origin', 'cargoes', 'tariff', '321', 'bought', 'cif', 'fluid', 'valorem', 'purified', 'jun', 'secured', '346', 'attempted', 'apr', 'processed', 'secretariat', 'algerian', 'drums', '340', 'comprised', 'cargo', 'category', 'categories', 'awaiting']\n",
      " ==== rapeseed === \n",
      "[',', '),', '(', '000', 'rapeseed', 'canadian', 'tonnes', 'crushers', 'of', 'japanese', 'said', 'for', 'shipment', 'business', 'bought', '...', '600', '.', 'champion', 'in', 'may', 'sources', 'trade', '5', 'export', 'overnight', 'buy', 'to', 'echlin', 'labor']\n",
      " ==== reserves === \n",
      "['.', 'billion', 'in', ',', 'reserves', 'the', 'to', 'mln', 'bank', 'of', 'foreign', 'dlrs', 'from', 's', 'at', 'end', '-', 'february', 'exchange', 'rise', 'rose', 'currency', 'taiwan', 'francs', 'marks', '1', 'and', '2', 'central', \"'\"]\n",
      " ==== retail === \n",
      "['.', 'pct', 'sales', 'in', 'february', ',', '1', 'january', 'retail', '0', '2', '4', '5', 'a', 'rose', '6', '3', '8', 'after', 'billion', 'were', '9', 'dlrs', '7', 'department', 'gain', 'u', 'year', '-', 'by']\n",
      " ==== rice === \n",
      "['rice', 'in', 'weather', 'el', 'nino', 'areas', 'ministry', 'agriculture', 'drought', 'cotton', 'the', 'said', 'rainfall', 'early', 'ascs', 'agricultural', 'farm', 'government', 'blocks', 'paddy', 'rains', 'round', 'dry', 'thailand', 'pakistan', 'northern', 'zeeuw', 'pounds', 'sichuan', 'local']\n",
      " ==== rubber === \n",
      "['rubber', ',', 'the', 'price', 'at', 'pact', 'new', 'tonnes', 'consumers', '000', 'inra', 'conference', 'cents', 'disease', 'agreement', 'malaysian', 'may', 'natural', 'prices', '(', 'trees', 'is', 'adjustment', 'and', 'present', 'buffer', 'or', 'xuto', 'affected', 'producers']\n",
      " ==== rye === \n",
      "['fodder', 'ratings', 'danish', 'beets', 'test', 'cincinnati', 'kc', 'cinci', 'lo', 'soyb', 'lubbck', 'evansville', 'amarlo', 'baltimore', 'balt', 'sorg', 'redemption', '---', 'mpls', 'evnsvlle', 'norf', 'brly', 'grade', 'nor', 'l', 'dollars', 'unit', 'effective', 'minneapolis', 'louis']\n",
      " ==== ship === \n",
      "['the', '.', ',', 's', 'to', 'and', 'of', '-', 'gulf', 'in', 'said', 'on', 'u', 'a', 'iran', 'at', 'ships', 'oil', 'strike', 'port', 'was', 'shipping', '/', \"'\", '000', 'iranian', 'were', 'with', 'ship', 'by']\n",
      " ==== silver === \n",
      "[',', 'silver', '000', 'dome', 'ounces', 'gillette', 'price', 'in', 'encor', 'futures', 'at', 'coins', 'perelman', 'limits', 'market', 'comex', 'trading', 'contracts', 'equity', 'neill', 'o', 'mines', 'gold', 'placer', 'production', 'december', 'petroleum', 'limit', 'metals', 'commerce']\n",
      " ==== sorghum === \n",
      "['.', '--', '1', '2', '3', '4', '-', '/', 'sorghum', '50', '5', 'v', 'price', 'iv', 'after', 'reserve', 'level', 'x', '65', 'per', 'corn', '54', 'rate', '85', 'farmer', 'owned', 'rates', '55', '04', 'national']\n",
      " ==== soy-meal === \n",
      "['.', '......', '18', '16', '19', 'dlrs', 'barrel', 'cts', 'were', 'soymeal', 'friday', 'light', 'lower', 'with', '.....', 'netbacks', 'arab', 'up', 'previous', 'buckhorn', 'mar', '27', 'shown', 'mediterranean', 'netback', 'values', '63', 'yesterday', 'urals', '...........']\n",
      " ==== soy-oil === \n",
      "['(', ').', 'sales', 'prev', 'oil', '),', '400', 'dutch', '900', 'export', 'guilder', '800', '200', 'soybean', 'feb', '164', 'fat', 'imports', 'were', 'oilseed', 'apr', 'destinations', 'adjusted', 'bales', 'board', 'prices', 'registrations', 'actual', 'argentine', '300']\n",
      " ==== soybean === \n",
      "['.', ',', 'soybean', 's', 'u', 'soybeans', 'mln', '000', 'to', 'loan', 'year', 'bushels', 'tonnes', 'and', 'a', 'for', 'usda', 'corn', 'from', 'the', 'at', 'week', 'in', 'of', '1', '1987', '4', 'export', 'ago', 'production']\n",
      " ==== strategic-metal === \n",
      "['uranium', 'south', 'african', 'oxide', 'ore', 'treasury', 'imports', 's', 'u', 'foothill', 'stockpile', 'rare', 'proposed', 'management', 'resources', 'states', 'allowing', 'materials', 'anti', 'passed', 'soviet', 'properties', 'apartheid', 'inc', 'mercury', 'processing', 'industry', 'minerals', 'acres', 'union']\n",
      " ==== sugar === \n",
      "[',', 'sugar', '.', 'tonnes', '000', 'the', 'in', 'of', 'at', '/', 'mln', 'to', 'for', 'ec', 'from', 'traders', 'and', 'a', 'production', 'intervention', 'beet', '1', 'white', 'year', '-', 'export', '(', 'tender', 'commission', 'producers']\n",
      " ==== sun-meal === \n",
      "['expellers', '313', 'levied', 'pollard', 'rpt', '264', 'taxes', 'bran', '290', '320', '102', '63', 'shipment', '99', 'minimum', '98', '450', '64', 'also', '44', ':', 'tonne', '42', '100', 'as', '40', 'previous', 'per', 'pellets', 'fob']\n",
      " ==== sun-oil === \n",
      "['purified', 'fluid', 'valorem', 'radioactive', 'contamination', 'retender', 'drums', 'algerian', 'landed', 'apr', 'loading', 'cottonseed', 'rejects', 'secretariat', 'awaiting', 'editor', 'peninsula', 'siegfried', '551', '8th', 'sabah', 'sarawak', 'palmkernel', 'antwerp', 'clause', 'rapeseed', 'category', 'levied', 'pollard', 'expellers']\n",
      " ==== sunseed === \n",
      "['.', 'to', 'mln', ',', 'and', 'in', 'the', 'pct', '3', '2', 'tonnes', 'harvest', 'total', 'of', '7', '1', '8', 'hectares', '4', 'between', 'last', 'area', 'week', 'rains', 'maize', 'mm', 'planted', 'estimates', 'was', 'soybean']\n",
      " ==== tea === \n",
      "['tea', 'pakistan', 'kenya', 'embassy', 'exports', 'imports', 'food', 'hazelnuts', 'radiation', 'pakistani', 'moscow', 'import', 'had', 'vietnam', 'licences', 'caesium', 'laboratory', 'abnormal', 'cla', 'kenyan', 'ctc', 'tests', 'broking', 'testing', 'zones', 'soviet', 'letter', 'sent', 'were', 'found']\n",
      " ==== tin === \n",
      "['tin', ',', 'tonnes', '000', 'itc', 'council', 'bolivia', 'atpc', 'price', 'international', 'metal', 'countries', 'court', '1', 'exports', 'quota', '4', 'agreements', 'session', 'delegates', 'member', 'mines', 'comecon', 'thailand', 'ec', 'agreement', 'extension', 'export', ')', 'members']\n",
      " ==== trade === \n",
      "['.', 'trade', 'to', 's', 'u', 'the', ',', 'japan', 'and', 'japanese', 'billion', 'with', 'ec', 'deficit', 'in', 'countries', 'of', 'gatt', 'exports', 'states', 'imports', 'surplus', 'united', 'tariffs', 'dlrs', '-', 'a', 'washington', 'talks', 'goods']\n",
      " ==== veg-oil === \n",
      "['.', 'ec', ',', 'oils', 'tax', 'and', '0', 'the', 'oil', 'vegetable', '/', 'fats', 'trade', 'u', 'would', 'farm', 'community', 'european', 'proposed', 'ministers', 'proposal', 'soybean', 'on', '(', '1', '87', 'countries', 'commission', ')', 'agriculture']\n",
      " ==== wheat === \n",
      "['.', ',', 'wheat', 'the', 'to', 'of', 'for', 'said', 'u', 's', 'tonnes', '000', '-', 'export', 'an', 'offer', 'agriculture', 'soviet', 'be', 'program', '/', 'and', 'under', 'grain', 'department', '0', 'dlrs', 'eep', 'at', 'a']\n",
      " ==== wpi === \n",
      "['.', 'pct', 'in', ',', '0', 'prices', 'february', 'the', 'january', 'a', '1', 'year', 'rose', 'after', 'index', 'rise', 'and', '2', '-', 'wholesale', '3', 'said', '5', '4', 'price', 'from', '7', '8', '9', 'were']\n",
      " ==== yen === \n",
      "['yen', 'japan', ',', 'dollar', 'japanese', 'bank', 'economy', 'official', 'exchange', 'current', 'nations', 'rates', 'paris', 'he', 'rise', 'senior', 'rate', 'accord', 'currency', 'monetary', 'minister', 'finance', 'levels', '/', 'says', 'miyazawa', 'industrial', 'around', 'further', 'central']\n",
      " ==== zinc === \n",
      "[',', '.', 'the', 'of', 'and', 'zinc', 'at', 'tonnes', 'cominco', 'to', 'smelter', 'locals', 'in', 'from', 'year', 'trail', 'said', 'pct', 'production', 'lead', '-', 'with', 'workers', '000', 'three', 'a', '2', 'about', 'for', 'mine']\n",
      " ==== COMMON === \n",
      "['the', '.', ',', 'to', 'of', 'in', 'said', 'a', 'and', 's', \"'\", 'for', '\"', 'on', 'that', 'it', 'is', '-', 'be', 'he', 'by', 'was', 'its', 'will', 'from', 'would', 'as', 'with', ',\"', 'at']\n"
     ]
    }
   ],
   "source": [
    "for i, cat in enumerate(categories + ['COMMON']):\n",
    "    print(f' ==== {cat} === ')\n",
    "    rank = phi[i].argsort()[::-1]\n",
    "    print([vocabulary[j] for j in rank[:30]])"
   ]
  },
  {
   "cell_type": "code",
   "execution_count": 15,
   "metadata": {},
   "outputs": [],
   "source": [
    "theta_test = lda_model.transform(X_test, gibbs_burn_in=5, n_iter=100, n_workers=2)\n",
    "\n",
    "# remove \"common\" and renormalize\n",
    "theta_test = theta_test[:, :-1] / theta_test[:, :-1].sum(axis=1)[:, np.newaxis]"
   ]
  },
  {
   "cell_type": "code",
   "execution_count": 17,
   "metadata": {},
   "outputs": [],
   "source": [
    "# constant model\n",
    "constant_predictor = y_train[:, :-1].sum(axis=0).astype(np.float64).A1 / y_train[:, :-1].sum()\n",
    "constant_predictor += 1e-15\n",
    "constant_predictor /= constant_predictor.sum()"
   ]
  },
  {
   "cell_type": "code",
   "execution_count": 18,
   "metadata": {},
   "outputs": [
    {
     "name": "stdout",
     "output_type": "stream",
     "text": [
      "log_loss of top popular method: 3.570\n",
      "log_loss of labelled lda theta: 1.838\n"
     ]
    }
   ],
   "source": [
    "# vs top popular\n",
    "print(\n",
    "    'log_loss of top popular method: {:.3f}'.format(\n",
    "        -(np.log(constant_predictor)[np.newaxis, :] * y_test[:, :-1].toarray()).sum(axis=1).mean()        \n",
    "    )\n",
    ")\n",
    "\n",
    "print(\n",
    "    'log_loss of labelled lda theta: {:.3f}'.format(\n",
    "        - (np.log(theta_test) * y_test[:, :-1].toarray()).sum(axis=1)[-3]\n",
    "    )\n",
    ")"
   ]
  }
 ],
 "metadata": {
  "kernelspec": {
   "display_name": "Python 3",
   "language": "python",
   "name": "python3"
  },
  "language_info": {
   "codemirror_mode": {
    "name": "ipython",
    "version": 3
   },
   "file_extension": ".py",
   "mimetype": "text/x-python",
   "name": "python",
   "nbconvert_exporter": "python",
   "pygments_lexer": "ipython3",
   "version": "3.7.1"
  }
 },
 "nbformat": 4,
 "nbformat_minor": 4
}
