{
 "cells": [
  {
   "cell_type": "code",
   "execution_count": 1,
   "metadata": {},
   "outputs": [
    {
     "name": "stderr",
     "output_type": "stream",
     "text": [
      "[nltk_data] Downloading package reuters to\n",
      "[nltk_data]     /Users/tomoki.otsuki/nltk_data...\n",
      "[nltk_data]   Package reuters is already up-to-date!\n"
     ]
    }
   ],
   "source": [
    "from scipy import sparse as sps\n",
    "import numpy as np\n",
    "\n",
    "import nltk\n",
    "nltk.download('reuters')\n",
    "from nltk.corpus import reuters"
   ]
  },
  {
   "cell_type": "code",
   "execution_count": 2,
   "metadata": {},
   "outputs": [],
   "source": [
    "from sklearn.model_selection import train_test_split\n",
    "from lda11.labelled_lda import LabelledLDA"
   ]
  },
  {
   "cell_type": "code",
   "execution_count": 3,
   "metadata": {},
   "outputs": [],
   "source": [
    "file_ids = reuters.fileids()"
   ]
  },
  {
   "cell_type": "code",
   "execution_count": 4,
   "metadata": {},
   "outputs": [],
   "source": [
    "X = []\n",
    "y = []\n",
    "for i, fid in enumerate(file_ids):\n",
    "    doc = reuters.words(fid)\n",
    "    X.append([word.lower() for word in doc])\n",
    "    y.append(reuters.categories(fid))\n",
    "    reuters.words(fid).close()"
   ]
  },
  {
   "cell_type": "code",
   "execution_count": 5,
   "metadata": {},
   "outputs": [
    {
     "name": "stdout",
     "output_type": "stream",
     "text": [
      "['thai', 'trade', 'deficit', 'widens', 'in', 'first', 'quarter', 'thailand', \"'\", 's', 'trade', 'deficit', 'widened', 'to', '4', '.', '5', 'billion', 'baht', 'in', 'the', 'first', 'quarter', 'of', '1987', 'from', '2', '.', '1', 'billion', 'a', 'year', 'ago', ',', 'the', 'business', 'economics', 'department', 'said', '.', 'it', 'said', 'janunary', '/', 'march', 'imports', 'rose', 'to', '65', '.', '1', 'billion', 'baht', 'from', '58', '.', '7', 'billion', '.', 'thailand', \"'\", 's', 'improved', 'business', 'climate', 'this', 'year', 'resulted', 'in', 'a', '27', 'pct', 'increase', 'in', 'imports', 'of', 'raw', 'materials', 'and', 'semi', '-', 'finished', 'products', '.', 'the', 'country', \"'\", 's', 'oil', 'import', 'bill', ',', 'however', ',', 'fell', '23', 'pct', 'in', 'the', 'first', 'quarter', 'due', 'to', 'lower', 'oil', 'prices', '.', 'the', 'department', 'said', 'first', 'quarter', 'exports', 'expanded', 'to', '60', '.', '6', 'billion', 'baht', 'from', '56', '.', '6', 'billion', '.', 'export', 'growth', 'was', 'smaller', 'than', 'expected', 'due', 'to', 'lower', 'earnings', 'from', 'many', 'key', 'commodities', 'including', 'rice', 'whose', 'earnings', 'declined', '18', 'pct', ',', 'maize', '66', 'pct', ',', 'sugar', '45', 'pct', ',', 'tin', '26', 'pct', 'and', 'canned', 'pineapples', 'seven', 'pct', '.', 'products', 'registering', 'high', 'export', 'growth', 'were', 'jewellery', 'up', '64', 'pct', ',', 'clothing', '57', 'pct', 'and', 'rubber', '35', 'pct', '.']\n"
     ]
    }
   ],
   "source": [
    "print(X[3])"
   ]
  },
  {
   "cell_type": "code",
   "execution_count": 6,
   "metadata": {},
   "outputs": [
    {
     "name": "stdout",
     "output_type": "stream",
     "text": [
      "['corn', 'grain', 'rice', 'rubber', 'sugar', 'tin', 'trade']\n"
     ]
    }
   ],
   "source": [
    "print(y[3])"
   ]
  },
  {
   "cell_type": "code",
   "execution_count": 7,
   "metadata": {},
   "outputs": [],
   "source": [
    "vocabulary = list(sorted({w for doc in X for w in doc}))\n",
    "categories = list(sorted({cat for cats in y for cat in cats}))\n",
    "\n",
    "vocabulary_to_index = { w:i for i, w in enumerate(vocabulary)}\n",
    "category_to_index = { cat:i for i, cat in enumerate(categories)}"
   ]
  },
  {
   "cell_type": "code",
   "execution_count": 8,
   "metadata": {},
   "outputs": [],
   "source": [
    "def codes_to_csr(codes, mapper):\n",
    "    rows = []\n",
    "    cols = []\n",
    "    for i, row in enumerate(codes):\n",
    "        for d in row:\n",
    "            cols.append(mapper[d])\n",
    "            rows.append(i)\n",
    "    return sps.csr_matrix(\n",
    "        (np.ones(len(rows), dtype=np.int32), (rows, cols)), shape=(len(codes), len(mapper))\n",
    "    )"
   ]
  },
  {
   "cell_type": "code",
   "execution_count": 9,
   "metadata": {},
   "outputs": [],
   "source": [
    "X = codes_to_csr(X, vocabulary_to_index)\n",
    "y = codes_to_csr(y, category_to_index)"
   ]
  },
  {
   "cell_type": "code",
   "execution_count": 10,
   "metadata": {},
   "outputs": [],
   "source": [
    "# include \"common\" tag.\n",
    "# See e.g., https://shuyo.hatenablog.com/entry/20130228/lda\n",
    "y = sps.hstack([y, np.ones((y.shape[0], 1))], format='csr')"
   ]
  },
  {
   "cell_type": "code",
   "execution_count": 11,
   "metadata": {},
   "outputs": [],
   "source": [
    "X_train, X_test, y_train, y_test = train_test_split(X, y, random_state=42)"
   ]
  },
  {
   "cell_type": "code",
   "execution_count": 12,
   "metadata": {},
   "outputs": [
    {
     "name": "stderr",
     "output_type": "stream",
     "text": [
      "100%|██████████| 500/500 [00:39<00:00, 12.54it/s]\n"
     ]
    },
    {
     "data": {
      "text/plain": [
       "<lda11.labelled_lda.LabelledLDA at 0x129e076a0>"
      ]
     },
     "execution_count": 12,
     "metadata": {},
     "output_type": "execute_result"
    }
   ],
   "source": [
    "# AD-LDA feature is available here, too\n",
    "lda_model = LabelledLDA(n_iter=500, n_workers=4)\n",
    "lda_model.fit(X_train, y_train)"
   ]
  },
  {
   "cell_type": "code",
   "execution_count": 13,
   "metadata": {},
   "outputs": [],
   "source": [
    "phi = lda_model.phi.transpose()"
   ]
  },
  {
   "cell_type": "code",
   "execution_count": 14,
   "metadata": {},
   "outputs": [
    {
     "name": "stdout",
     "output_type": "stream",
     "text": [
      " ==== acq === \n",
      "['.', 'the', ',', 'of', 'to', 'said', 'a', 'and', 'it', ';', '&', 'lt', 'in', '>', 'for', 'dlrs', 'its', 'company', 'mln', 'inc', 'shares', '-', 's', \"'\", 'corp', 'pct', 'has', 'stock', 'is', 'share']\n",
      " ==== alum === \n",
      "[',', 'aluminium', 'tonnes', '.', 'aluminum', '000', 'plant', 'alcan', 'smelter', 'mln', 'at', 'lme', 'company', 'prices', 'of', 'contract', '1', 'capacity', 'metal', 'alumina', 'february', 'alcoa', 'cbt', 'primary', 'spokesman', 'ltd', '&', 'lt', 'says', ';']\n",
      " ==== barley === \n",
      "[',', '.', 'barley', 'of', 'for', '-', '000', 'tonnes', '--', 'ecus', 'export', 'the', 'wheat', 'at', 'ec', 'and', 'a', 'free', 'maize', 'market', 'said', 'licences', 'tonne', 'v', 'trade', 'french', 'non', 'rebate', '65', 'saudi']\n",
      " ==== bop === \n",
      "['.', 'billion', 'in', 'the', ',', 'a', 'of', 'dlrs', 'mln', 'deficit', 'surplus', 'to', 'from', 'account', 'february', 'current', '2', 'trade', 'january', 'and', '1986', '1', 'year', 's', 'said', 'quarter', '4', '7', '6', 'with']\n",
      " ==== carcass === \n",
      "[',', '.', 'beef', 'meat', 'ec', 'to', 'and', 's', 'u', 'farm', 'tonnes', 'japan', '000', 'at', 'pork', 'agriculture', 'food', 'plant', 'union', 'farmers', 'poultry', 'quota', '(', 'industry', 'inspection', 'april', '1', 'exports', 'usda', 'a']\n",
      " ==== castor-oil === \n",
      "['üside', 'emulator', 'emphasises', 'emphasising', 'emphasize', 'emphasized', 'emphasizing', 'empi', 'empire', 'employ', 'employed', 'employee', 'employees', 'employement', 'employer', 'employers', 'employes', 'employess', 'employing', 'employment', 'employs', 'empowering', 'empowers', 'empresa', 'empress', 'empt', 'emptied', 'empty', 'emr', 'emphasised']\n",
      " ==== cocoa === \n",
      "[',', 'cocoa', 'the', 'buffer', 'stock', '.', 'tonnes', 'icco', 'of', 'and', 'to', 'delegates', '000', 'be', 'rules', 'international', 'manager', 'prices', 'for', '1', 'producers', 'council', 'at', '/', 'are', 'market', 'on', 'in', 'agreement', 'is']\n",
      " ==== coconut === \n",
      "['coconut', 'romero', 'philippine', 'copra', 'exports', 'philippines', 'bill', 'products', 'ec', 'pca', 'meal', 'aflatoxin', 'authority', 'land', 'fats', 'saturated', 'jose', 'product', 'january', 'process', 'soybean', 'defeat', 'ucap', 'edible', 'fibre', 'sri', 'military', 'heart', 'oils', 'visit']\n",
      " ==== coconut-oil === \n",
      "['onwards', 'fosfa', 'seeds', 'sep', 'sept', 'metric', 'proponents', 'harkin', 'discriminates', 'snuffing', 'labeling', 'labels', 'iowa', 'derive', 'lugar', 'debilitating', 'ind', 'headway', 'republicans', 'associations', 'democrats', 'tons', 'advised', 'operators', 'suffers', 'high', 'adopt', 'indicating', 'disease', 'aug']\n",
      " ==== coffee === \n",
      "[',', 'coffee', '.', 'quotas', 'ico', 'export', 'the', 'to', 'brazil', 'quota', 'producers', '0', 'bags', '(', 'meeting', 'in', '/', 'prices', 'talks', 'producer', 'on', 'colombia', 'at', ')', 'mln', 'international', 'delegates', '1', 'said', '000']\n",
      " ==== copper === \n",
      "[',', 'copper', '.', 'to', 'a', '000', 'in', 'of', 'mine', 'at', 'tons', 'zambia', 'from', 'tonnes', 'production', 'said', 'mining', 'price', 'newmont', 'its', 'mln', 'by', 'december', 'zccm', 'phelps', 'magma', '0', 'it', '50', 'outokumpu']\n",
      " ==== copra-cake === \n",
      "['copra', 'embassy', 'philippines', 'devaluation', 'rupiah', 'overall', 'hoppers', 'plywood', 'fertile', 'seeds', 'sugarcane', '075', 'importing', 'insect', 'underlines', '1960s', '695', 'indonesian', 'insecticides', 'duties', 'wereng', 'margin', 'import', '720', 'pests', 'tea', 'staple', 'resistant', 'unlikely', 'coffee']\n",
      " ==== corn === \n",
      "['.', 'corn', 'the', 'u', ',', 's', 'acres', 'usda', 'program', 'be', 'farm', 'farmers', 'acreage', 'ec', 'agriculture', 'to', 'maize', 'grain', 'canadian', 'by', 'mln', 'of', 'imports', 'per', 'said', 'prices', 'bushel', 'will', 'price', 'producers']\n",
      " ==== cotton === \n",
      "['.', ',', 'cotton', '/', '1', 'in', 'at', '87', 'mln', 'last', 'bales', 'month', '1986', 'vs', '2', '-', '--', '000', 'crop', '3', 'exports', '86', '1985', 'stocks', 'texas', 'pakistan', '5', 'weather', 'u', 'agriculture']\n",
      " ==== cotton-oil === \n",
      "['retender', 'landed', 'radioactive', 'contamination', 'clause', 'rejects', 'unspecified', 'renewal', 'sarawak', 'newsletter', '551', 'sabah', 'antwerp', 'palmkernel', 'siegfried', 'plantings', 'peninsula', '8th', 'tender', 'editor', 'submitted', 'veg', 'rejected', 'material', 'amounts', 'yields', 'sept', 'contract', 'oct', '24']\n",
      " ==== cpi === \n",
      "['.', 'pct', 'in', 'the', ',', 'february', 'year', '0', 'inflation', 'and', 'of', 'a', '-', 'january', '1986', 'to', 'prices', '1', 'consumer', '2', '4', 'march', '3', 'index', '5', 'rose', 'rise', 'said', 'was', 'price']\n",
      " ==== cpu === \n",
      "['renault', 'chrysler', 'amc', 'fermenta', 'nordbanken', 'crowns', 'shareholders', 'worst', 'them', 'peacetime', 'lives', 'utilization', 'loss', 'sank', 'accord', 'free', 'sayed', 'incident', 'tragedies', 'collided', 'freighter', 'drowned', 'iacocca', 'rank', 'el', 'auction', 'creditor', 'hope', 'allow', 'rena']\n",
      " ==== crude === \n",
      "['.', 'oil', ',', 'the', 'to', 'a', 'crude', 'opec', 'mln', 'dlrs', 'said', 'in', 'of', 'prices', 'bpd', 'and', '-', 'barrel', 'for', '000', 's', 'production', 'barrels', 'its', 'at', 'price', 'by', 'energy', '/', '1']\n",
      " ==== dfl === \n",
      "['dutch', 'cpb', 'guilder', 'rate', 'guilders', 'netherlands', 'between', 'amro', 'flows', 'nelissen', 'pierson', 'noting', 'deflation', 'nederland', 'keeps', 'critics', '113', 'nv', 'gnp', 'want', '110', 'undisputed', 'marchie', 'slackness', 'implicate', 'tariff', 'hendrik', 'freely', 'abn', 'overcautious']\n",
      " ==== dlr === \n",
      "['.', 'the', 'dollar', ',', 'to', 'yen', 'of', 'said', 'bank', 's', 'japan', 'in', 'dealers', 'u', 'at', 'and', 'currency', '-', 'was', 'trade', 'against', 'market', 'dollars', '1', 'central', 'a', 'tokyo', 'that', \"'\", 'exchange']\n",
      " ==== dmk === \n",
      "['.', '/', 'bank', 'mark', 'dollar', 'rate', 'lira', 'central', 'hawkeye', 'set', 'a', 'leucadia', 'swiss', 'turkish', 'leutwiler', 'from', 'national', 'previous', 'minstar', 'warrants', 'down', '50', 'rates', 'dm', '430', 'sets', 'rupiah', 'australian', 'franc', 'indonesia']\n",
      " ==== earn === \n",
      "[',', '.', 'vs', 'mln', 'cts', '000', 'net', 'dlrs', '1', 'loss', 'shr', ';', '&', 'lt', '>', '2', 'profit', 'qtr', '3', 'of', 'revs', 'year', '4', '5', '6', 'and', 'inc', '7', '-', 'note']\n",
      " ==== fuel === \n",
      "['.', ',', 'pct', 'dlrs', 'sulphur', 'cts', 'up', 'to', '75', 'fuel', 'prices', '2', 'the', '50', '5', '25', '0', 'barrel', 'for', 'budget', 'one', 'said', 'a', '1', 'oil', '19', '18', 'today', '20', 'and']\n",
      " ==== gas === \n",
      "['.', ',', 'mln', 'the', 'gasoline', 'from', 'oil', 'said', 'pct', 'in', 'to', 'crude', 'barrels', '3', 'stocks', '1', 'year', 'up', '2', 'off', 'bpd', 'octane', 'demand', 'a', 'and', 'for', 'petroleum', 'week', '4', '6']\n",
      " ==== gnp === \n",
      "['.', 'pct', 'the', 'in', ',', 'growth', 'year', 'of', '2', 'and', '1', 'economic', 'this', '5', 'to', '0', 'economy', '1987', 'a', '3', '1986', 'forecast', 'by', 'quarter', 'inflation', 'gnp', 'gdp', 'domestic', \"'\", 'government']\n",
      " ==== gold === \n",
      "['.', ',', 'of', 'gold', 'the', 'said', 'a', 'and', 'in', 'to', 'at', '000', 'mine', 'ounces', '-', 'it', 'per', 'ounce', '0', 'ton', 'pct', '&', 'lt', ';', 'ore', '>', 'reserves', 'production', '1', 'an']\n",
      " ==== grain === \n",
      "['.', ',', 'the', 'tonnes', 'of', 'for', 'to', 'and', 'mln', 'wheat', '000', '/', 'grain', 's', 'in', 'said', 'u', '-', 'at', '1', 'dlrs', 'corn', '87', '1986', 'from', 'usda', 'department', '(', 'agriculture', 'export']\n",
      " ==== groundnut === \n",
      "['peanuts', 'waiver', 'credits', 'tracomin', 'levon', 'alitalia', '000', 'exports', 'flights', 'oecd', 'mixed', 'reforms', 'ascs', 'arnott', 'averaged', 'provisional', 'revised', 'crop', 'aid', 'groundnut', 'service', 'peanut', 'edible', 'lb', 'shortening', 'pounds', 'checked', 'passengers', 'subsidise', 'traffic']\n",
      " ==== groundnut-oil === \n",
      "['445', 'levied', '323', 'expellers', 'pollard', '313', 'rpt', 'taxes', 'onwards', '103', 'soyabeans', '661', '308', '342', '709', '227', 'fishoil', '189', '371', '137', '124', 'component', '151', '89', '92', '47', 'commodities', '35', '265', '286']\n",
      " ==== heat === \n",
      "['oil', 'futures', 'traders', 'heating', 'price', 'contract', 'barge', 'york', 'new', 'apex', 'prices', 'gallon', 'exxon', 'report', 'cts', 'contracts', 'lower', 'supplies', 'nymex', 'corn', 'sun', 'mercantile', 'unchanged', 'gains', 'harbor', 'hogs', 'cent', 'petroleum', 'charges', 'customers']\n",
      " ==== hog === \n",
      "[',', '000', 'and', 'ago', 'hog', 'pork', 'slaughter', 'a', 'to', '.', 'about', 'at', 'producers', 'year', 'head', 'cattle', 'commission', 'versus', 'week', 'nppc', 'canadian', 'hogs', \"'\", 'program', 's', 'danish', 'are', 'today', 'council', 'representatives']\n",
      " ==== housing === \n",
      "['.', ',', 'pct', 'in', 'units', '1', 'january', 'to', 'the', 'mln', 'a', '000', 'of', '6', '-', 'from', 'family', 'fell', 'starts', 'housing', '4', 'seasonally', 'adjusted', 's', 'rose', 'february', '2', 'u', 'rate', 'said']\n",
      " ==== income === \n",
      "['.', 'in', 'pct', ',', 'rise', 'january', '7', '6', 'dlrs', 'rose', 'february', 'earnings', 'billion', 'after', 'department', '0', '-', '5', '3', 'personal', 'income', 'average', '1', 'year', 'underlying', 'april', 'u', 'wage', 'was', 'up']\n",
      " ==== instal-debt === \n",
      "['.', 'in', 'dlrs', 'credit', 'mln', 'january', 'billion', 'audi', 'consumer', 'rose', '1', 'by', 'u', 'pct', 's', 'after', 'fell', 'december', 'february', 'habbel', 'fed', '0', 'jan', '536', '77', 'rise', 'end', 'stg', '3', 'vs']\n",
      " ==== interest === \n",
      "['.', 'the', 'pct', '-', ',', 'to', 'bank', 'rate', 'of', 'rates', '/', 'at', 'market', '1', 'in', '5', 'said', 'from', 'money', '3', '4', 'mln', 'stg', 'and', '7', 'it', 'billion', 'a', 'on', 'fed']\n",
      " ==== ipi === \n",
      "['.', 'pct', 'in', ',', 'the', 'production', 'january', 'industrial', 'a', 'output', '-', 'and', 'year', 'february', '0', '1', 'from', '3', '2', 'of', 'was', 'rose', '4', 'said', 'fell', 'december', 'rise', '5', 'after', 'to']\n",
      " ==== iron-steel === \n",
      "['steel', '.', ',', 'and', 'mln', 'to', 'will', 'tonnes', '-', 'from', 'iron', '1', '&', ';', 'by', 'lt', 'prices', 'usx', 'pct', 'products', 'corp', 'it', 'ore', 'said', '>', 'production', '/', 'dlrs', 'exports', 'japan']\n",
      " ==== jet === \n",
      "['textile', 'dominion', 'contract', 'fuel', 'burlington', 'dufour', 'defense', 'rumor', 'austerity', 'texaco', 'awarded', 'yes', '84', 'tx', 'logistics', 'unsuccesful', '926', 'weekdays', 'airliners', 'paralyzed', 'conserve', 'adopts', 'interviewer', '1', 'weekends', 'petrol', 'avondale', 'procurement', 'indefinite', 'multi']\n",
      " ==== jobs === \n",
      "['.', ',', 'the', 'in', 'pct', 'unemployment', 'to', 'of', 'from', '000', '2', 'february', 'march', 'mln', '1', 'was', '3', 'a', 'january', 'said', 'fell', 'year', 'and', '-', 'at', 'week', 'rate', 's', 'employment', '9']\n",
      " ==== l-cattle === \n",
      "['cattle', 'feed', 'are', 'lighter', 'placements', 'marketings', 'live', 'report', 'beef', 'futures', 'marris', 'usda', 'plant', 'pasture', 'feedlots', 'feedlot', 'weight', 'normal', 'markets', 'many', 'noted', 'free', 'lbs', 'tuberculosis', 'mexican', 'wheat', 'livestock', 'placed', 'petroleum', 'being']\n",
      " ==== lead === \n",
      "[',', '.', 'the', 'of', 'and', 'smelter', 'lead', 'at', 'cominco', 'zinc', 'locals', 'year', 'said', 'a', 'contract', 'trail', 'to', 'three', 'mine', 'tons', '-', 'for', '000', 'workers', 'about', 'pct', 'metal', 'mln', 'with', 'produced']\n",
      " ==== lei === \n",
      "['.', 'pct', 'in', '0', 'index', ',', 'leading', 'january', 'indicators', 'after', '1', 'december', '4', 'rise', 'february', 'indicator', '7', 'rose', '5', 's', '2', 'canada', 'fell', '3', 'u', '-', 'was', 'revised', 'november', '9']\n",
      " ==== lin-oil === \n",
      "['323', 'expellers', 'levied', 'pollard', '313', 'rpt', '445', 'taxes', 'onwards', 'linoil', '872', 'sunoil', '692', 'jul', '166', 'future', '655', '182', '101', '264', '330', 'groundnutseed', '274', '280', 'thousands', 'adjusted', '42', 'bran', '98', '320']\n",
      " ==== livestock === \n",
      "[',', '.', 'the', 'of', 'and', 'in', 'to', 'mln', 'cattle', 'for', 'said', '1', 'lbs', 'a', 'department', '(', 'head', '-', 'u', 'from', 'agriculture', 'dairy', '1986', '000', 'meat', 'export', 'an', 's', '),', 'are']\n",
      " ==== lumber === \n",
      "['lumber', 'mln', 'canadian', 'credit', 'export', 'plywood', 'u', 'canada', 'guarantees', 'forest', 'zimmerman', 'softwood', 'wood', 'dlrs', 'products', 'usda', 'timber', 'charge', 'sims', '15', 'department', 'commerce', 'niedermeyer', 'forests', 'guarantee', 'announcement', 'exporters', 'sales', 'tropical', 'iraq']\n",
      " ==== meal-feed === \n",
      "[',', '.', 'the', 'tonnes', 'in', 'and', '/', 'for', 'of', 'sales', 'were', 'week', '0', 'mln', 'pct', 'from', 'said', 'meal', '-', '1986', 'year', 'to', '2', 'soybean', '87', '1987', 'season', 'january', 'feed', 'with']\n",
      " ==== money-fx === \n",
      "['the', '.', 'of', ',', 'bank', 'in', 'to', 'dollar', 'exchange', '-', 's', 'and', 'u', 'currency', 'market', 'mln', 'said', 'stg', 'rate', 'rates', 'at', 'money', 'a', 'central', 'monetary', \"'\", 'baker', 'paris', 'treasury', 'with']\n",
      " ==== money-supply === \n",
      "['.', 'in', ',', 'the', 'dlrs', '-', 'billion', 'pct', '1', 'to', 'of', 'mln', 'a', 'm', 'money', 'week', 'bank', 'fed', 's', 'and', 'from', '3', 'january', '2', 'supply', 'february', 'rose', 'on', 'year', 'said']\n",
      " ==== naphtha === \n",
      "['gillette', 'iso', 'pact', 'jacobs', 'session', 'kellogg', 'naphtha', 'btx', 'venezuelan', 'renegotiated', 'delegates', 'reformer', 'hydrotreater', 'xylene', 'inelectra', 'politoff', 'gs', 'korea', 'clauses', 'won', 'litre', '854', 'pohlad', 'waging', 'mpany', 'consideer', 'halved', 'pro', 'rata', 'isomerization']\n",
      " ==== nat-gas === \n",
      "['gas', ',', '.', 'of', 'in', 'oil', 'and', 'said', 'mln', 'the', '&', ';', 'lt', 'natural', 'from', '>', 'reserves', 'dlrs', 'a', 'feet', 'exploration', 'cubic', 'it', 'pct', 'energy', 'barrels', 'billion', '1986', '1', 'company']\n",
      " ==== nickel === \n",
      "['nickel', 'nmic', 'tonnes', 'firm', 'mining', 'offers', 'soviet', '000', 'refinery', 'mint', 'sumitomo', 'philippine', 'output', 'dbp', 'pnb', 'valentchits', 'saft', 'metal', 'philippines', 'calendar', 'pesos', 'august', 'tsvetmetpromexport', 'outokumpu', 'alcad', 'hrs', 'edt', '1100', 'penn', 'mine']\n",
      " ==== nkr === \n",
      "['crown', 'crowns', 'basket', 'norway', 'ease', 'sells', 'upward', 'finland', 'norwegian', 'weightings', 'percentages', 'piecemeal', 'threatens', 'oslo', '^', 'revises', 'bolstered', '109', 'swedish', 'danish', '114', 'weights', 'match', 'indicates', 'defending', 'weighted', '19', 'respective', 'upper', 'whenever']\n",
      " ==== nzdlr === \n",
      "['muldoon', 'floating', 'outspoken', 'float', 'nearer', 'rank', 'grossly', 'eye', 'advocate', 'floated', 'overvalued', 'premier', 'internationally', 'managed', '57', 'implementing', 'removed', 'elections', 'z', 'perhaps', 'leaders', 'labour', 'volatility', 'party', 'cents', 'widespread', 'cheaper', 'methods', '48', 'former']\n",
      " ==== oat === \n",
      "['.', 'nil', '/', '2', '-', '0', '4', ',', '87', '1', 'o', 'prev', 'wk', '5', '3', '7', 'e', '8', '6', 'a', '9', '1987', 'c', '88', '.-', '1986', 'unnamed', 'b', 'named', 'total']\n",
      " ==== oilseed === \n",
      "['.', ',', 'to', 'mln', 'and', 'in', 'the', 'pct', '2', 'tonnes', '1', '3', 'of', 'year', 'last', 'a', '4', 'soybean', '8', 'week', '7', 'total', 'from', '/', 'harvest', 'bushels', 'area', 'crop', '9', 'hectares']\n",
      " ==== orange === \n",
      "[',', '.', 'orange', 'juice', '1', 's', 'gallons', 'u', 'department', 'frozen', 'brazilian', 'estimate', 'imports', 'crop', 'fcoj', 'commerce', 'duties', 'swire', 'dumping', 'usda', 'concentrated', 'florida', 'per', 'mln', 'brazil', 'ruling', 'april', '/', 'final', 'box']\n",
      " ==== palladium === \n",
      "['cbc', 'cookeville', 'upcm', 'memphis', 'affect', 'citizens', 'planters', '190', 'nearly', 'ending', 'union', 'period', 'bancorp', 'according', 'employees', 'banks', 'reported', 'details', 'name', 'merge', 'billion', 'equity', '31', 'owns', 'signed', 'disclosed', 'directors', 'acquired', 'which', 'holding']\n",
      " ==== palm-oil === \n",
      "['palm', '.', 'oil', ',', 'tonnes', 'in', 'indonesia', 'and', '000', 'tonne', 'import', 'at', 'said', 'from', 'traders', 'of', 'per', 'olein', 'ringgit', 'rbd', 'stocks', ')', 'to', 'for', '(', 'april', 'output', 'february', 'cpo', 'malaysia']\n",
      " ==== palmkernel === \n",
      "['csr', 'pioneer', 'lasmo', 'sugar', 'onyx', 'exploration', 'generous', 'lsml', 'scottish', 'proven', 'element', 'compares', 'over', '9', 'tangible', 'raw', 'barrels', 'reflects', 'feet', '76', 'contained', '219', 'mills', 'merging', 'cubic', 'reserves', 'amp', 'achieved', 'economies', '985']\n",
      " ==== pet-chem === \n",
      "['chemical', ';', '&', 'lt', 'dow', 'prices', '>', 'will', 'petrochemical', 'plant', 'co', '>,', 'increase', 'corp', 'ethylene', 'pinola', 'pound', 'cts', 'interstate', 'industry', 'ina', 'has', 'effective', '000', 'tonnes', 'resins', 'per', 'unit', 'contract', 'capacity']\n",
      " ==== platinum === \n",
      "['platinum', 'tvx', 'clark', 'consolidated', '(', 'ounces', '000', ')', 'british', 'matthey', 'articles', 'hallmarked', 'teles', 'pires', 'items', 'marked', 'offices', 'johnson', 'brazil', 'palladium', 'term', 'ounce', 'single', '3rd', 'rejection', 'soar', 'volcker', 'astro', 'novo', 'technigen']\n",
      " ==== potato === \n",
      "['futures', 'potato', 'stg', 'per', 'cwt', 'vs', 'acre', 'estimated', 'department', 'acres', 'traded', '(', 'february', 'potatoes', 'lpfa', 'pmb', 'spring', 'physical', 'subpoenaed', '000', '--', '100', '),', 'previously', '19', 'usda', 'harvested', 'april', 'alert', 'harris']\n",
      " ==== propane === \n",
      "['lpg', 'saudi', 'dlrs', '/', 'propane', 'price', 'prices', 'arabia', 'butane', 'japan', 'traders', '(', 'sources', '1', 'gulf', 'gsp', 'sea', 'north', '..............', '123', 'tonne', 'imports', 'bp', 'petromin', '..........', ')........', 'cargoes', 'mediterranean', 'fob', 'posted']\n",
      " ==== rand === \n",
      "['üside', 'emulator', 'emphasises', 'emphasising', 'emphasize', 'emphasized', 'emphasizing', 'empi', 'empire', 'employ', 'employed', 'employee', 'employees', 'employement', 'employer', 'employers', 'employes', 'employess', 'employing', 'employment', 'employs', 'empowering', 'empowers', 'empresa', 'empress', 'empt', 'emptied', 'empty', 'emr', 'emphasised']\n",
      " ==== rape-oil === \n",
      "['oil', 'rapeseed', '000', '20', 'tender', 'origin', 'traders', 'stc', 'sunflower', 'optional', 'tariff', '321', 'cargo', 'import', '24', 'cargoes', 'refined', 'secretariat', 'processed', 'valorem', 'purified', 'fluid', 'will', 'drums', 'indian', 'india', 'attempted', '638', '231', 'categories']\n",
      " ==== rapeseed === \n",
      "[',', '000', 'tonnes', '(', '),', 'rapeseed', 'from', 'to', '.', 'oil', 'canadian', 'of', 'for', 'crushers', 'japanese', 'rose', 'shipment', 'said', 'in', 'usage', 'fell', 'bought', '...', 'sources', 'imports', 'business', 'exports', '600', '5', 'trade']\n",
      " ==== reserves === \n",
      "['.', 'billion', 'in', 'the', ',', 'reserves', 'to', 'mln', 'foreign', 'of', 'bank', 'dlrs', 'from', 'at', 's', '-', 'end', 'exchange', 'february', 'rise', 'rose', 'and', 'taiwan', 'francs', 'currency', '1', 'central', \"'\", '2', 'by']\n",
      " ==== retail === \n",
      "['.', 'pct', 'sales', 'in', ',', 'february', 'january', '1', 'retail', '0', '2', 'a', '4', '5', 'rose', '6', 'mln', '3', '8', 'were', '9', 'after', 'u', '7', 'billion', 'dlrs', 's', 'department', 'gain', ',\"']\n",
      " ==== rice === \n",
      "['.', '/', ',', '87', '09', '1', '-', '03', '2', '04', '(', '4', '--', 'rice', '1986', '0', '5', ')', '8', '86', '3', '1985', 'stocks', 'mln', '7', '6', 'in', 'exports', 'total', 'production']\n",
      " ==== rubber === \n",
      "['rubber', ',', 'price', 'the', 'at', 'pact', 'new', '000', 'and', 'consumers', 'inra', 'is', 'agreement', 'disease', 'conference', 'cents', 'prices', 'tonnes', 'malaysian', 'natural', 'may', 'be', 'or', 'trees', 'adjustment', 'present', 'buffer', 'stock', '(', 'xuto']\n",
      " ==== rye === \n",
      "['.', '--', '2', '1', '3', '4', '04', '05', '98', '54', '70', '90', '85', 'gulf', '68', '56', '49', '73', '71', '17', '16', '12', 'seattle', 'memphis', 'stockton', 'sww', 'peoria', 'lou', 'denver', 'phil']\n",
      " ==== ship === \n",
      "['the', '.', ',', 's', 'in', 'of', 'to', 'and', 'said', 'a', 'on', '-', 'gulf', 'u', 'iran', 'at', 'oil', \"'\", 'was', 'strike', 'port', 'ships', 'shipping', 'with', 'iranian', '/', 'had', 'by', '000', 'ship']\n",
      " ==== silver === \n",
      "[',', 'silver', '000', 'ounces', 'futures', 'coins', 'price', 'limits', 'in', 'market', 'troy', 'physics', 'spectra', 'comex', 'ciba', 'geigy', 'trading', 'equity', 'contracts', 'production', 'neill', 'o', 'st', 'at', 'gold', 'placer', 'metals', 'daily', 'december', 'limit']\n",
      " ==== sorghum === \n",
      "['geplacea', 'region', 'half', 'alcohol', 'webb', 'aires', 'buenos', 'latin', 'sources', 'rose', 'bahia', 'lb', 'rosario', 'garlem', 'del', 'blanca', 'say', 'interest', 'unidentified', 'shipping', 'necochea', 'australs', 'birdseed', 'desjardins', 'latorre', 'plantations', 'rico', 'jets', 'raid', 'platforms']\n",
      " ==== soy-meal === \n",
      "['futures', 'soymeal', 'crush', 'exchange', 'processors', 'markets', 'maxwell', 'dealers', 'yesterday', 'feed', 'levels', 'cents', 'pellets', 'gafta', 'agricultural', 'just', 'few', 'margins', 'dlr', 'association', 'london', 'grain', 'rie', 'baltic', 'midday', 'meal', 'indicated', 'rally', 'weekly', 'offered']\n",
      " ==== soy-oil === \n",
      "['banks', 'seidman', 'schlumberger', 'fdic', 'activity', 'drilling', '>,', 'services', '&', 'sweeney', 'freedman', 'dresser', 'kerridge', 'frost', 'cross', 'tool', 'sullivan', 'rigs', 'recovery', 'hughes', 'bernstein', 'sandi', 'favorite', 'gaspar', 'halliburton', 'merger', 'pickup', 'co', 'vice', '208']\n",
      " ==== soybean === \n",
      "[',', '.', 'soybean', 'soybeans', 'u', '000', 's', 'loan', 'for', 'usda', 'tonnes', 'at', 'agriculture', 'marketing', 'march', 'taiwan', 'rate', 'dlrs', 'shipment', 'may', '4', 'crop', 'april', 'prices', 'per', 'program', '1987', 'stocks', 'committee', 'export']\n",
      " ==== strategic-metal === \n",
      "['south', 'african', 'uranium', 'allied', 'campeau', 'oxide', 'ore', 'treasury', 'imports', 'bull', 'management', 'honeywell', 'u', 'stockpile', 'sec', 'rare', 'goodyear', 'debartolo', 'proposed', 'corp', 'states', 'allowing', 'passed', 'labor', 'materials', 'production', 'soviet', 'state', 'agency', 'properties']\n",
      " ==== sugar === \n",
      "[',', 'sugar', '.', 'tonnes', '000', 'the', 'in', '/', 'of', 'at', 'mln', 'to', 'for', 'a', 'and', 'ec', 'from', 'traders', '-', 'intervention', 'beet', 'production', '1', 'white', 'year', 'said', '(', 'export', 'tender', ')']\n",
      " ==== sun-meal === \n",
      "['pollard', 'expellers', '323', 'levied', '313', 'rpt', '445', 'taxes', 'onwards', '101', '264', '330', 'groundnutseed', '274', '280', 'adjusted', '42', 'bran', '98', '320', 'cake', '290', '),', '102', 'follows', '99', '63', 'argentine', '103', '64']\n",
      " ==== sun-oil === \n",
      "['(', '0', 'oil', ').', '7', 'season', 'total', '8', 'prev', 'feb', 'apr', 'next', '5', 'mln', 'sunflowerseed', 'nil', 'mar', 'weeks', 'mielke', '9', 'registrations', 'oilseed', 'october', 'offers', 'soybean', ':', 'oils', '48', 'egypt', 'brackets']\n",
      " ==== sunseed === \n",
      "['textile', 'staley', 'dekalb', 'simsa', 'kelly', 'hog', 'apparel', 'congressional', 'protection', 'heinold', 'cbo', 'protections', 'nonpartisan', 'fit', 'modern', 'arm', 'producers', 'grew', 'esop', 'bickner', 'dklbb', 'iberica', 'coporate', 'madrid', 'molturacion', 'gibbons', 'ota', 'gramlich', 'sociedad', 'sta']\n",
      " ==== tea === \n",
      "['tea', 'pakistan', 'countertrade', 'india', 'indian', 'state', 'kenya', 'sources', 'embassy', 'trading', 'imports', 'metex', 'deals', 'rigs', 'food', 'orange', 'exports', 'data', 'hazelnuts', 'pakistani', 'radiation', 'moscow', 'soviet', 'import', 'levels', 'source', 'hc', 'julius', 'vietnam', 'sri']\n",
      " ==== tin === \n",
      "['tin', ',', 'tonnes', '000', 'itc', 'council', 'bolivia', 'atpc', 'price', 'metal', 'international', 'court', 'countries', 'exports', 'quota', 'agreement', '4', '1', 'mines', 'export', 'thailand', 'extension', 'stg', 'member', 'delegates', ')', 'members', 'miners', 'agreements', 'session']\n",
      " ==== trade === \n",
      "['.', 'trade', 'to', 's', 'u', 'the', ',', 'japan', 'and', 'on', 'billion', 'japanese', 'in', 'with', 'of', 'ec', 'deficit', 'gatt', 'countries', 'imports', 'states', 'exports', 'surplus', '-', 'united', 'dlrs', 'tariffs', \"'\", 'a', 'washington']\n",
      " ==== veg-oil === \n",
      "['.', 'ec', 'the', ',', 'and', 'tax', 'oils', 'a', 'on', 'vegetable', 'fats', 'u', 'would', 'trade', 'oil', 'farm', 'community', 's', 'proposed', 'european', 'to', 'ministers', 'proposal', 'countries', 'be', 'soybean', '(', ')', 'commission', 'agriculture']\n",
      " ==== wheat === \n",
      "['wheat', ',', '.', 'the', 'to', 'offer', 'soviet', 'said', 'of', 's', 'agriculture', '92', '/', 'and', 'in', 'crop', 'winter', 'lyng', 'an', 'grain', '0', 'weather', 'eep', 'u', 'be', 'not', 'is', 'bill', 'farm', 'union']\n",
      " ==== wpi === \n",
      "['.', 'pct', 'in', ',', 'prices', '0', 'the', 'february', 'january', 'a', '1', 'year', 'rose', 'after', 'and', 'index', 'rise', '-', '2', 'wholesale', '4', '3', 'said', 'price', '5', 'from', '9', '7', 'were', 'month']\n",
      " ==== yen === \n",
      "['yen', 'japan', ',', 'japanese', 'dollar', 'economy', 'official', 'bank', '.', 'bond', 'of', 'exchange', 'the', 'current', 'senior', 'nations', 'paris', 'around', 'minister', 'rise', 'rates', 'accord', 'not', 'poland', 'says', 'or', 'he', 'futures', 'economic', 'levels']\n",
      " ==== zinc === \n",
      "[',', 'zinc', 'tonnes', 'in', 'from', '000', 'production', 'february', 'january', 'brooks', '1986', 'fell', '4', '(', 'pincus', 'stocks', 'warburg', 'spokesman', ')', 'lead', 'figures', 'refined', 'cajamarquilla', 'mint', 'rose', 'december', '14', 'european', 'symbion', 'force']\n",
      " ==== COMMON === \n",
      "['the', '.', ',', 'to', 'of', 'in', 'said', 'a', 'and', 's', \"'\", 'for', '\"', 'that', 'on', 'is', 'it', '-', 'he', 'be', 'by', 'from', 'was', 'would', 'its', 'will', 'as', ',\"', 'with', 'year']\n"
     ]
    }
   ],
   "source": [
    "for i, cat in enumerate(categories + ['COMMON']):\n",
    "    print(f' ==== {cat} === ')\n",
    "    rank = phi[i].argsort()[::-1]\n",
    "    print([vocabulary[j] for j in rank[:30]])"
   ]
  },
  {
   "cell_type": "code",
   "execution_count": 15,
   "metadata": {},
   "outputs": [],
   "source": [
    "theta_test = lda_model.transform(X_test, gibbs_burn_in=5, n_iter=100, n_workers=4)\n",
    "\n",
    "# remove \"common\" and renormalize\n",
    "theta_test = theta_test[:, :-1] / theta_test[:, :-1].sum(axis=1)[:, np.newaxis]"
   ]
  },
  {
   "cell_type": "code",
   "execution_count": 16,
   "metadata": {},
   "outputs": [],
   "source": [
    "# constant model\n",
    "constant_predictor = y_train[:, :-1].sum(axis=0).astype(np.float64).A1 / y_train[:, :-1].sum()\n",
    "constant_predictor += 1e-15\n",
    "constant_predictor /= constant_predictor.sum()"
   ]
  },
  {
   "cell_type": "code",
   "execution_count": 17,
   "metadata": {},
   "outputs": [
    {
     "name": "stdout",
     "output_type": "stream",
     "text": [
      "log_loss of contant model: 3.570\n",
      "log_loss of labelled lda theta: 1.748\n"
     ]
    }
   ],
   "source": [
    "# vs top popular\n",
    "print(\n",
    "    'log_loss of contant model: {:.3f}'.format(\n",
    "        -(np.log(constant_predictor)[np.newaxis, :] * y_test[:, :-1].toarray()).sum(axis=1).mean()        \n",
    "    )\n",
    ")\n",
    "\n",
    "print(\n",
    "    'log_loss of labelled lda theta: {:.3f}'.format(\n",
    "        - (np.log(theta_test) * y_test[:, :-1].toarray()).sum(axis=1)[-3]\n",
    "    )\n",
    ")"
   ]
  },
  {
   "cell_type": "code",
   "execution_count": null,
   "metadata": {},
   "outputs": [],
   "source": []
  }
 ],
 "metadata": {
  "kernelspec": {
   "display_name": "Python 3",
   "language": "python",
   "name": "python3"
  },
  "language_info": {
   "codemirror_mode": {
    "name": "ipython",
    "version": 3
   },
   "file_extension": ".py",
   "mimetype": "text/x-python",
   "name": "python",
   "nbconvert_exporter": "python",
   "pygments_lexer": "ipython3",
   "version": "3.7.1"
  }
 },
 "nbformat": 4,
 "nbformat_minor": 4
}
