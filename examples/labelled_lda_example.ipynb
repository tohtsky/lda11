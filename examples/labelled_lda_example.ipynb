{
 "cells": [
  {
   "cell_type": "code",
   "execution_count": 1,
   "metadata": {},
   "outputs": [
    {
     "name": "stderr",
     "output_type": "stream",
     "text": [
      "[nltk_data] Downloading package reuters to\n",
      "[nltk_data]     /Users/tomoki.otsuki/nltk_data...\n",
      "[nltk_data]   Package reuters is already up-to-date!\n"
     ]
    }
   ],
   "source": [
    "from scipy import sparse as sps\n",
    "import numpy as np\n",
    "\n",
    "import nltk\n",
    "nltk.download('reuters')\n",
    "from nltk.corpus import reuters"
   ]
  },
  {
   "cell_type": "code",
   "execution_count": 2,
   "metadata": {},
   "outputs": [],
   "source": [
    "from sklearn.model_selection import train_test_split\n",
    "from lda11.labelled_lda import LabelledLDA"
   ]
  },
  {
   "cell_type": "code",
   "execution_count": 3,
   "metadata": {},
   "outputs": [],
   "source": [
    "file_ids = reuters.fileids()"
   ]
  },
  {
   "cell_type": "code",
   "execution_count": 4,
   "metadata": {},
   "outputs": [],
   "source": [
    "X = []\n",
    "y = []\n",
    "for i, fid in enumerate(file_ids):\n",
    "    doc = reuters.words(fid)\n",
    "    X.append([word.lower() for word in doc])\n",
    "    y.append(reuters.categories(fid))\n",
    "    reuters.words(fid).close()"
   ]
  },
  {
   "cell_type": "code",
   "execution_count": 5,
   "metadata": {},
   "outputs": [
    {
     "name": "stdout",
     "output_type": "stream",
     "text": [
      "['thai', 'trade', 'deficit', 'widens', 'in', 'first', 'quarter', 'thailand', \"'\", 's', 'trade', 'deficit', 'widened', 'to', '4', '.', '5', 'billion', 'baht', 'in', 'the', 'first', 'quarter', 'of', '1987', 'from', '2', '.', '1', 'billion', 'a', 'year', 'ago', ',', 'the', 'business', 'economics', 'department', 'said', '.', 'it', 'said', 'janunary', '/', 'march', 'imports', 'rose', 'to', '65', '.', '1', 'billion', 'baht', 'from', '58', '.', '7', 'billion', '.', 'thailand', \"'\", 's', 'improved', 'business', 'climate', 'this', 'year', 'resulted', 'in', 'a', '27', 'pct', 'increase', 'in', 'imports', 'of', 'raw', 'materials', 'and', 'semi', '-', 'finished', 'products', '.', 'the', 'country', \"'\", 's', 'oil', 'import', 'bill', ',', 'however', ',', 'fell', '23', 'pct', 'in', 'the', 'first', 'quarter', 'due', 'to', 'lower', 'oil', 'prices', '.', 'the', 'department', 'said', 'first', 'quarter', 'exports', 'expanded', 'to', '60', '.', '6', 'billion', 'baht', 'from', '56', '.', '6', 'billion', '.', 'export', 'growth', 'was', 'smaller', 'than', 'expected', 'due', 'to', 'lower', 'earnings', 'from', 'many', 'key', 'commodities', 'including', 'rice', 'whose', 'earnings', 'declined', '18', 'pct', ',', 'maize', '66', 'pct', ',', 'sugar', '45', 'pct', ',', 'tin', '26', 'pct', 'and', 'canned', 'pineapples', 'seven', 'pct', '.', 'products', 'registering', 'high', 'export', 'growth', 'were', 'jewellery', 'up', '64', 'pct', ',', 'clothing', '57', 'pct', 'and', 'rubber', '35', 'pct', '.']\n"
     ]
    }
   ],
   "source": [
    "print(X[3])"
   ]
  },
  {
   "cell_type": "code",
   "execution_count": 6,
   "metadata": {},
   "outputs": [
    {
     "name": "stdout",
     "output_type": "stream",
     "text": [
      "['corn', 'grain', 'rice', 'rubber', 'sugar', 'tin', 'trade']\n"
     ]
    }
   ],
   "source": [
    "print(y[3])"
   ]
  },
  {
   "cell_type": "code",
   "execution_count": 7,
   "metadata": {},
   "outputs": [],
   "source": [
    "vocabulary = list(sorted({w for doc in X for w in doc}))\n",
    "categories = list(sorted({cat for cats in y for cat in cats}))\n",
    "\n",
    "vocabulary_to_index = { w:i for i, w in enumerate(vocabulary)}\n",
    "category_to_index = { cat:i for i, cat in enumerate(categories)}"
   ]
  },
  {
   "cell_type": "code",
   "execution_count": 8,
   "metadata": {},
   "outputs": [],
   "source": [
    "def codes_to_csr(codes, mapper):\n",
    "    rows = []\n",
    "    cols = []\n",
    "    for i, row in enumerate(codes):\n",
    "        for d in row:\n",
    "            cols.append(mapper[d])\n",
    "            rows.append(i)\n",
    "    return sps.csr_matrix(\n",
    "        (np.ones(len(rows), dtype=np.int32), (rows, cols)), shape=(len(codes), len(mapper))\n",
    "    )"
   ]
  },
  {
   "cell_type": "code",
   "execution_count": 9,
   "metadata": {},
   "outputs": [],
   "source": [
    "X = codes_to_csr(X, vocabulary_to_index)\n",
    "y = codes_to_csr(y, category_to_index)"
   ]
  },
  {
   "cell_type": "code",
   "execution_count": 10,
   "metadata": {},
   "outputs": [],
   "source": [
    "# include \"common\" tag.\n",
    "# See e.g., https://shuyo.hatenablog.com/entry/20130228/lda\n",
    "y = sps.hstack([y, np.ones((y.shape[0], 1))], format='csr')"
   ]
  },
  {
   "cell_type": "code",
   "execution_count": 11,
   "metadata": {},
   "outputs": [],
   "source": [
    "X_train, X_test, y_train, y_test = train_test_split(X, y, random_state=42)"
   ]
  },
  {
   "cell_type": "code",
   "execution_count": 12,
   "metadata": {},
   "outputs": [
    {
     "name": "stderr",
     "output_type": "stream",
     "text": [
      "100%|██████████| 500/500 [00:40<00:00, 12.39it/s]\n"
     ]
    },
    {
     "data": {
      "text/plain": [
       "<lda11.labelled_lda.LabelledLDA at 0x12142cd68>"
      ]
     },
     "execution_count": 12,
     "metadata": {},
     "output_type": "execute_result"
    }
   ],
   "source": [
    "# AD-LDA feature is available here, too\n",
    "lda_model = LabelledLDA(n_iter=500, n_workers=4)\n",
    "lda_model.fit(X_train, y_train)"
   ]
  },
  {
   "cell_type": "code",
   "execution_count": 13,
   "metadata": {},
   "outputs": [],
   "source": [
    "phi = lda_model.phi.transpose()"
   ]
  },
  {
   "cell_type": "code",
   "execution_count": 14,
   "metadata": {},
   "outputs": [
    {
     "name": "stdout",
     "output_type": "stream",
     "text": [
      " ==== acq === \n",
      "[',', '.', 'mln', 'vs', 'dlrs', '000', 'lt', '&', ';', '>', 'cts', '1', 'inc', 'net', 'of', 'shares', 'loss', '2', 'corp', 'shr', 'and', '3', '5', '4', '9', '6', 'or', 'profit', 'in', 'qtr']\n",
      " ==== alum === \n",
      "[',', 'aluminium', 'tonnes', '.', 'aluminum', '000', 'plant', 'alcan', 'smelter', 'at', 'prices', 'lme', 'contract', 'new', 'capacity', 'metal', 'february', 'alumina', 'alcoa', 'cbt', '1', '(', 'primary', ')', 'output', 'cents', 'spokesman', 'comalco', 'bauxite', 'from']\n",
      " ==== barley === \n",
      "[',', '.', 'barley', 'of', 'for', '-', 'tonnes', '000', '--', 'ecus', 'the', 'export', 'wheat', 'at', 'ec', 'and', 'a', 'free', 'maize', 'market', 'licences', 'said', 'tonne', 'to', 'french', 'trade', 'v', 'non', 'rebate', 'saudi']\n",
      " ==== bop === \n",
      "['.', 'billion', 'in', 'the', ',', 'a', 'of', 'deficit', 'dlrs', 'surplus', 'mln', 'to', 'from', 'february', 'account', 'current', 'trade', 'january', '2', 'and', 'year', '1986', 's', '1', 'said', 'quarter', '4', 'with', \"'\", 'was']\n",
      " ==== carcass === \n",
      "['.', ',', 'the', 'beef', 'to', 'meat', 'and', 'ec', 's', 'u', 'japan', 'at', 'farm', 'that', 'tonnes', 'a', 'pork', 'food', '000', 'industry', 'plant', 'agriculture', 'farmers', 'union', 'exports', 'quota', 'inspection', 'would', 'april', 'prices']\n",
      " ==== castor-oil === \n",
      "['üside', 'emulator', 'emphasises', 'emphasising', 'emphasize', 'emphasized', 'emphasizing', 'empi', 'empire', 'employ', 'employed', 'employee', 'employees', 'employement', 'employer', 'employers', 'employes', 'employess', 'employing', 'employment', 'employs', 'empowering', 'empowers', 'empresa', 'empress', 'empt', 'emptied', 'empty', 'emr', 'emphasised']\n",
      " ==== cocoa === \n",
      "[',', 'the', 'cocoa', '.', 'buffer', 'to', 'stock', 'of', 'and', 'in', 'tonnes', 'icco', 'be', 'delegates', '000', 'on', 'are', 'prices', 'rules', 'is', 'for', 'international', 'said', 'at', 'market', 'manager', 'as', 'they', '/', 'producers']\n",
      " ==== coconut === \n",
      "['coconut', 'romero', 'philippine', 'exports', 'copra', 'he', 'philippines', 'bill', 'ec', 'products', 'pca', 'meal', 'aflatoxin', 'authority', 'tax', 'land', 'fats', 'saturated', '(', 'jose', 'product', 'process', 'soybean', 'edible', 'ucap', 'sri', 'defeat', 'fibre', 'heart', 'military']\n",
      " ==== coconut-oil === \n",
      "['lugar', 'derive', 'republicans', 'iowa', 'proponents', 'discriminates', 'snuffing', 'debilitating', 'harkin', 'headway', 'labeling', 'democrats', 'suffers', 'americans', 'labels', 'disease', 'high', 'read', 'discourage', 'joining', 'claimed', 'heart', 'impossible', '.)', 'suffered', 'contribute', 'hopes', 'adopted', 'relatively', 'party']\n",
      " ==== coffee === \n",
      "[',', 'the', '.', 'coffee', 'to', 'of', 'in', 'said', 'a', 'quotas', 'and', 'ico', 'export', 'on', 'brazil', 'quota', 'producers', 'for', 's', 'at', '(', 'meeting', 'prices', 'bags', '\"', 'not', 'this', \"'\", '-', 'market']\n",
      " ==== copper === \n",
      "[',', 'copper', '.', 'to', 'the', 'in', 'of', 'a', '000', 'at', 'mine', 'tonnes', 'from', 'production', 'tons', 'zambia', 's', 'and', 'by', 'said', 'mining', 'price', 'newmont', 'december', 'zccm', 'phelps', 'magma', '0', 'its', '(']\n",
      " ==== copra-cake === \n",
      "['importing', 'devaluation', 'rupiah', 'copra', 'hoppers', 'plywood', 'underlines', '1960s', '075', 'fertile', 'indonesian', 'philippines', '695', 'duties', 'seeds', 'reluctance', '720', 'margin', 'planted', 'persuaded', 'crumble', 'planting', '817', 'intercrop', 'discredit', 'tended', 'drying', 'carcinogenic', 'devilish', 'metres']\n",
      " ==== corn === \n",
      "['.', 'the', 'corn', ',', 's', 'u', 'to', 'of', 'said', 'that', 'be', 'acres', 'in', 'a', 'usda', 'program', 'farm', 'by', 'this', 'for', 'ec', 'and', 'on', 'farmers', 'would', 'agriculture', 'maize', 'acreage', '\"', 'imports']\n",
      " ==== cotton === \n",
      "['.', ',', 'cotton', '/', 'in', 'at', 'last', 'bales', '1', 'month', 'the', '87', 'vs', 'mln', '2', '1986', '000', '--', 'crop', '3', '-', 'u', 's', 'texas', 'weather', '1985', '86', 'exports', 'stocks', '10']\n",
      " ==== cotton-oil === \n",
      "['retender', 'landed', 'clause', 'contamination', 'radioactive', 'siegfried', 'newsletter', 'palmkernel', '8th', 'antwerp', 'yields', 'plantings', 'peninsula', 'sabah', 'sarawak', 'renewal', 'unspecified', 'editor', 'submitted', 'rejects', 'cottonseed', 'material', 'old', 'prospective', 'hamburg', 'contact', 'shifting', 'free', '24', 'include']\n",
      " ==== cpi === \n",
      "['.', 'pct', 'in', 'the', ',', 'february', 'year', '0', 'inflation', 'of', 'and', 'a', 'to', '-', 'january', '1986', 'prices', '1', 'consumer', 'march', '2', 'said', '4', 'index', '3', 'was', 'rose', '5', 'rise', 'price']\n",
      " ==== cpu === \n",
      "['renault', 'chrysler', 'amc', 'fermenta', 'nordbanken', 'crowns', 'worst', 'them', 'when', 'world', 'peacetime', 'lives', 'utilization', 'accord', 'loss', 'sank', 'free', '200', 'iacocca', 'sayed', 'freighter', 'incident', 'tragedies', 'collided', 'drowned', 'rank', 'el', 'auction', 'hope', 'creditor']\n",
      " ==== crude === \n",
      "['.', ',', 'oil', 'the', 'to', 'in', 'a', 'of', 'said', 'crude', 'opec', 'and', 'prices', 'dlrs', 'bpd', 's', 'mln', '-', 'for', 'barrel', 'production', 'at', 'by', 'he', '000', 'barrels', 'was', 'on', \"'\", 'price']\n",
      " ==== dfl === \n",
      "['dutch', 'cpb', 'guilder', 'guilders', 'between', 'netherlands', 'amro', 'flows', 'nelissen', 'keeps', 'deflation', 'critics', '113', 'nederland', 'constant', 'gnp', 'want', 'nv', 'noting', 'fluctuations', 'slackness', 'marchie', 'undisputed', 'pity', 'flexiblility', 'geertsema', 'grip', 'sarvaas', 'pegging', 'overcautious']\n",
      " ==== dlr === \n",
      "['the', '.', ',', 'dollar', 'to', 'said', 'of', 'in', 's', 'yen', 'and', 'a', 'bank', 'japan', 'u', 'dealers', 'was', 'that', 'he', 'at', '-', \"'\", '\"', 'on', 'currency', 'not', 'trade', 'as', 'market', 'but']\n",
      " ==== dmk === \n",
      "['.', '/', 'bank', 'mark', 'dollar', 'rate', 'lira', 'central', 'hawkeye', 'set', 'a', 'leucadia', 'swiss', 'turkish', 'national', 'from', 'leutwiler', 'minstar', 'previous', '50', 'down', 'rates', 'dm', '430', 'rupiah', 'sets', 'indonesia', 'franc', 'australian', 'clearview']\n",
      " ==== earn === \n",
      "[',', '.', 'vs', 'mln', 'cts', '000', 'net', '1', 'dlrs', 'loss', 'shr', ';', 'lt', '&', '>', '2', 'profit', 'qtr', '3', 'of', 'year', 'revs', '4', '5', '6', '-', '7', 'billion', 'note', 'and']\n",
      " ==== fuel === \n",
      "['.', ',', 'pct', 'dlrs', 'sulphur', 'cts', 'up', 'to', '75', 'prices', 'fuel', '2', 'the', '50', '5', '25', '0', 'barrel', 'budget', 'for', 'one', 'said', 'oil', '1', '19', '18', 'today', 'and', '20', 'new']\n",
      " ==== gas === \n",
      "['.', ',', 'mln', 'the', 'gasoline', 'from', 'said', 'pct', 'oil', 'in', 'to', 'crude', 'barrels', '1', '3', 'stocks', 'year', '2', 'up', 'off', 'bpd', 'a', 'demand', 'and', 'octane', 'for', 'petroleum', 'week', '6', '4']\n",
      " ==== gnp === \n",
      "['.', 'the', ',', 'in', 'pct', 'to', 'of', 'and', 'year', 'growth', 'a', 'said', '2', 'this', '1', 's', 'economic', \"'\", 'by', '5', 'economy', 'is', '1987', '0', '1986', 'for', 'government', 'was', 'that', '3']\n",
      " ==== gold === \n",
      "['.', ',', 'of', 'gold', 'the', 'a', 'said', 'and', 'in', 'at', 'to', 'mine', '000', 'ounces', '-', 'it', 'per', 'ounce', 'ton', '0', 'ore', 'pct', 'production', 'reserves', '&', ';', '1', '>', 'year', 'an']\n",
      " ==== grain === \n",
      "['.', ',', 'the', 'of', 'tonnes', 'to', 'and', 'for', 'in', 'mln', 'wheat', '/', 's', '000', 'said', 'grain', 'u', '-', 'at', '1', 'from', '1986', 'dlrs', '87', 'a', 'year', 'usda', 'corn', 'department', '(']\n",
      " ==== groundnut === \n",
      "['waiver', 'peanuts', 'credits', 'exports', 'tracomin', 'alitalia', '000', 'flights', 'mixed', 'oecd', 'reforms', 'australia', 'ccc', 'crop', 'arnott', 'provisional', 'tonnes', 'groundnut', 'aid', 'edible', 'lb', 'passengers', 'cts', 'traffic', 'farmers', 'subsidise', '264', '7225', '034', 'kernel']\n",
      " ==== groundnut-oil === \n",
      "['323', 'levied', 'pollard', '313', 'rpt', 'bran', 'expellers', '280', 'taxes', '760', '709', '371', 'soyabeans', 'fishoil', '227', '661', '114', '308', 'component', '151', 'sun', 'commodities', 'rising', '139', '265', '189', '345', '113', 'board', '264']\n",
      " ==== heat === \n",
      "['oil', 'futures', 'traders', 'heating', 'price', 'contract', 'barge', 'prices', 'york', 'apex', 'new', 'gallon', 'exxon', 'report', 'cts', 'lower', 'contracts', 'hogs', 'nymex', 'sun', 'corn', 'unchanged', 'exchange', 'supplies', 'gains', 'mercantile', '50', 'harbor', 'cent', 'customers']\n",
      " ==== hog === \n",
      "['pork', 'canadian', 'nppc', 'program', 'producers', 'danish', 'council', 'hogs', 'drug', 'committee', 'delegates', 'pigs', 'd', 'trade', 'commission', 'congress', 'use', 'national', 'approved', 'production', 'pseudorabies', 'prv', 'eradication', 'safe', 'weight', 'senate', 'project', 'senators', 'court', 'industry']\n",
      " ==== housing === \n",
      "['.', ',', 'in', 'pct', 'units', '1', 'january', 'to', 'the', 'a', 'mln', '000', 'of', '6', 'from', '-', 'family', 'fell', 'starts', '4', 'housing', 'seasonally', 'adjusted', 's', 'rose', 'february', 'u', 'rate', '2', 'december']\n",
      " ==== income === \n",
      "['.', 'in', 'pct', ',', 'rise', 'january', '6', '7', 'rose', 'billion', 'earnings', 'february', 'after', 'department', '0', 'dlrs', '-', '5', '3', 'year', 'underlying', 'was', 'april', 'average', 'u', 'personal', 'income', '1', 'up', 'wage']\n",
      " ==== instal-debt === \n",
      "['.', 'in', 'credit', 'dlrs', 'january', 'mln', 'billion', 'audi', 'consumer', 'rose', 'by', 'u', 's', 'harcourt', '1', 'after', 'fell', 'february', 'december', '0', 'habbel', 'fed', 'pct', 'rise', '536', 'jan', '77', 'end', 'reed', 'recapitalization']\n",
      " ==== interest === \n",
      "['.', 'the', '-', 'pct', ',', 'to', 'rate', 'of', 'bank', 'rates', '/', 'at', 'in', 'market', 'said', 'a', '1', 'and', '5', 'from', 'on', 'money', '3', '4', 'billion', 'stg', 'mln', 'interest', '7', 's']\n",
      " ==== ipi === \n",
      "['.', 'pct', 'in', 'the', ',', 'production', 'january', 'industrial', 'a', 'output', 'and', 'year', '-', 'february', '0', 'from', 'of', '1', '3', '2', 'was', 'rose', 'said', '4', 'to', 'fell', 'december', 'rise', '5', 'after']\n",
      " ==== iron-steel === \n",
      "['steel', '.', ',', 'to', 'mln', 'and', 'tonnes', 'from', 'iron', '-', 'will', 'prices', 'in', 'usx', 'year', 'by', 'products', 'exports', 'production', 'ore', 'japan', '1', 'imports', 'industry', 'ec', 'mhi', 'taiwan', 'pct', '/', 'south']\n",
      " ==== jet === \n",
      "['textile', 'dominion', 'contract', 'burlington', 'fuel', 'dufour', 'rumor', 'defense', 'austerity', 'texaco', 'awarded', 'yes', '84', '.-', 'logistics', 'tx', 'unsuccesful', '926', 'conserve', 'paralyzed', 'interviewer', 'airliners', 'weekdays', 'weekends', 'petrol', 'avondale', 'procurement', 'indefinite', 'ships', '1']\n",
      " ==== jobs === \n",
      "['.', ',', 'the', 'in', 'pct', 'unemployment', 'to', 'of', 'from', '000', '2', 'february', 'was', 'a', 'mln', 'said', 'march', 'and', '1', '3', 'january', 'year', 'fell', 's', 'at', 'week', '-', 'rate', 'employment', '9']\n",
      " ==== l-cattle === \n",
      "['cattle', 'feed', 'are', 'lighter', 'placements', 'marketings', 'prices', 'report', 'beef', 'live', 'states', 'marris', 'being', 'many', 'pasture', 'feedlots', 'feedlot', 'weight', 'noted', 'usda', 'normal', 'free', 'plant', 'analyst', 'lbs', 'tuberculosis', 'mexican', 'wheat', 'placed', 'state']\n",
      " ==== lead === \n",
      "['lead', 'metal', 'traders', 'zinc', 'stg', 'u', 'stocks', 'smelter', 'tonnes', 'lme', 'india', 'harper', 'contract', 'demand', 'row', 'brunswick', 'k', 'grant', 'austmet', 'tons', '000', 'short', 'harcourt', 'mine', 'buying', 'supply', 'production', 'british', 'asturiana', 'cominco']\n",
      " ==== lei === \n",
      "['.', 'in', 'pct', '0', 'the', ',', 'index', 'leading', 'january', 'indicators', 'after', '1', 'december', 'rise', '4', 'february', 'and', 'indicator', 's', 'rose', '7', '5', 'u', '2', 'was', 'fell', 'canada', '3', '-', 'of']\n",
      " ==== lin-oil === \n",
      "['pollard', '323', 'levied', 'rpt', '313', 'bran', 'expellers', '280', 'taxes', 'linoil', 'jul', 'sunoil', '872', 'future', '655', '692', '182', 'their', '264', 'thousands', 'those', 'groundnutseed', 'onwards', '330', 'bread', '218', '445', 'rapeseed', '117', 'showing']\n",
      " ==== livestock === \n",
      "[',', '.', 'the', 'and', 'of', 'to', '000', 'in', 'cattle', 'a', '(', 'head', 'for', 'lbs', 'mln', 'department', 'ago', 'u', 'at', 'year', 'agriculture', '1', '-', 'hog', 's', 'are', 'from', 'slaughter', 'export', 'ccc']\n",
      " ==== lumber === \n",
      "['lumber', 'canadian', 'export', 'u', 'credit', 'plywood', 'canada', 'guarantees', 'mln', 'zimmerman', 'softwood', 'forest', 'wood', 'usda', 'products', 'timber', 'charge', '15', 'sims', 'department', 'commerce', 'niedermeyer', 'forests', 'guarantee', 'exporters', 'announcement', 'contract', 'sales', 'tropical', 'iraq']\n",
      " ==== meal-feed === \n",
      "['.', ',', 'the', 'tonnes', 'in', 'and', '/', 'for', 'of', 'sales', 'were', 'week', '0', 'pct', 'mln', 'said', 'from', 'meal', '-', '2', '1986', 'year', '1', '87', 'u', '1987', 'soybean', 'feed', 'season', 'january']\n",
      " ==== money-fx === \n",
      "['the', '.', ',', 'to', 'of', 'in', 's', 'and', 'bank', 'said', 'dollar', 'u', 'a', 'exchange', '-', 'market', 'he', \"'\", 'that', 'currency', 'on', 'at', 'rate', 'mln', 'stg', 'rates', 'was', 'money', 'with', 'central']\n",
      " ==== money-supply === \n",
      "['.', 'in', 'the', ',', '-', 'billion', 'dlrs', 'pct', 'to', '1', 'of', 'a', 'mln', 'm', 'money', 'week', 'bank', 'fed', 's', 'and', 'from', '3', 'supply', 'january', '2', 'on', 'february', 'rose', 'said', 'year']\n",
      " ==== naphtha === \n",
      "['gillette', 'iso', 'jacobs', 'pact', 'session', 'naphtha', 'btx', 'venezuelan', 'revlon', 'budget', 'renegotiated', 'delegates', 'hydrotreater', 'xylene', 'reformer', 'inelectra', 'gs', 'korea', 'politoff', 'clauses', 'won', 'allegheny', 'called', 'litre', 'mpany', 'pohlad', 'waging', '854', 'consideer', 'halved']\n",
      " ==== nat-gas === \n",
      "['gas', ',', '.', 'in', 'of', 'oil', 'and', 'the', 'said', 'mln', 'natural', 'from', 'lt', 'reserves', '&', ';', '>', 'feet', 'cubic', 'exploration', 'barrels', 'billion', 'pct', '1986', 'a', 'energy', 'it', 'to', 'dlrs', '2']\n",
      " ==== nickel === \n",
      "['nickel', 'nmic', 'tonnes', 'soviet', 'offers', 'mining', 'refinery', 'mint', 'sumitomo', 'philippine', 'output', 'dbp', 'valentchits', 'saft', 'pnb', 'calendar', 'pesos', 'philippines', 'august', 'outokumpu', 'tsvetmetpromexport', 'alcad', 'penn', 'hrs', 'metal', 'edt', '1100', 'mine', 'cut', 'talks']\n",
      " ==== nkr === \n",
      "['crown', ')', '(', 'crowns', 'basket', 'norway', 'ease', 'pressure', 'sells', 'finland', 'upward', 'weightings', 'norwegian', '109', 'weights', 'defending', '^', 'reuter', 'percentages', 'revises', 'danish', 'match', 'country', 'threatens', 'piecemeal', 'oslo', 'whenever', 'bolstered', 'around', 'swedish']\n",
      " ==== nzdlr === \n",
      "['muldoon', 'eye', 'advocate', 'implementing', 'floated', 'internationally', 'grossly', 'premier', 'perhaps', 'nearer', 'outspoken', 'removed', 'managed', 'leaders', 'elections', '57', 'overvalued', 'cheaper', 'z', 'labour', 'methods', 'excessive', 'widespread', 'rank', 'float', 'cents', '48', 'reasonable', 'floating', 'opposition']\n",
      " ==== oat === \n",
      "['.', 'nil', '/', '2', '-', '4', '0', ',', '87', 'o', 'prev', '1', 'wk', '5', '3', 'e', '7', '8', 'a', '6', '9', 'c', '88', '1987', '.-', '1986', 'unnamed', 'named', 'b', 'gr']\n",
      " ==== oilseed === \n",
      "['.', ',', 'to', 'mln', 'the', 'and', 'in', 'of', 'tonnes', 'pct', '2', '000', 'year', '3', 'last', 'for', '1', 'from', '4', 'soybean', 'a', \"'\", '/', '7', 'harvest', 'total', '8', 'week', 'is', 's']\n",
      " ==== orange === \n",
      "[',', '.', 'orange', 'juice', 's', '1', 'u', 'gallons', 'department', 'frozen', 'on', 'brazilian', 'estimate', 'imports', 'crop', 'fcoj', 'commerce', 'duties', 'swire', 'dumping', 'usda', 'concentrated', 'florida', 'last', 'brazil', 'set', 'per', 'ruling', 'year', 'final']\n",
      " ==== palladium === \n",
      "['cbc', 'transamerica', 'life', 'citizens', 'planters', 'cos', 'cookeville', 'pacc', 'provident', 'upcm', 'amortizing', 'memphis', 'transamerican', 'ta', 'statutory', '190', 'reinsurance', 'accident', 'realize', 'structured', 'method', 'bancorp', 'occidental', 'accelerate', 'deferred', 'gain', 'conservative', '125', 'supported', 'union']\n",
      " ==== palm-oil === \n",
      "[',', 'palm', '.', 'oil', 'tonnes', 'in', 'indonesia', 'and', 'of', 'to', '000', 'tonne', 'at', 'import', 'the', 'said', 'from', 'for', 'traders', 'olein', 'ringgit', 'per', ')', '(', 'rbd', 'february', 'april', 'cpo', 'malaysia', 'world']\n",
      " ==== palmkernel === \n",
      "['csr', 'pioneer', 'lasmo', 'sugar', 'onyx', 'mills', 'buying', 'generous', 'henley', 'fe', 'lsml', 'scottish', '219', 'merging', 'element', 'barrels', 'proven', 'amp', 'tangible', 'exploration', 'csra', 'cubic', 'swap', '985', 'feet', 'santa', 'southern', 'compares', 'xon', 'a']\n",
      " ==== pet-chem === \n",
      "[',', 'chemical', ';', 'lt', '&', 'dow', 'prices', '>', 'will', 'petrochemical', 'co', 'and', 'plant', 'industry', 'increase', 'ethylene', 'pinola', 'pound', 'cts', 'interstate', 'demand', 'ina', '>,', 'effective', 'tonnes', '000', 'contract', 'resins', 'kellogg', 'per']\n",
      " ==== platinum === \n",
      "['platinum', 'tvx', '(', 'clark', '000', 'consolidated', 'increase', ')', 'ounces', 'british', 'demand', 'produce', 'black', 'africa', 'matthey', 'hallmarked', 'migrant', 'pires', 'teles', 'articles', 'marked', 'workers', 'items', 'offices', 'johnson', 'weight', 'single', 'palladium', 'term', 'ounce']\n",
      " ==== potato === \n",
      "['futures', 'potato', 'stg', 'per', 'express', 'acre', 'cwt', 'estimated', 'department', 'american', '(', 'shearson', 'acres', 'traded', 'potatoes', 'lpfa', 'pmb', 'subpoenaed', 'spring', 'physical', '--', 'vs', '),', 'previously', '100', 'february', 'alert', 'usda', 'harvested', 'agriculture']\n",
      " ==== propane === \n",
      "['lpg', 'saudi', 'dlrs', 'propane', '/', 'price', 'prices', 'arabia', 'japan', 'butane', 'sources', 'traders', '(', 'gulf', 'gsp', 'sea', 'japanese', 'north', '1', '..............', '123', 'tonne', 'imports', 'petromin', '..........', ')........', 'shell', 'fob', 'cargoes', 'mediterranean']\n",
      " ==== rand === \n",
      "['üside', 'emulator', 'emphasises', 'emphasising', 'emphasize', 'emphasized', 'emphasizing', 'empi', 'empire', 'employ', 'employed', 'employee', 'employees', 'employement', 'employer', 'employers', 'employes', 'employess', 'employing', 'employment', 'employs', 'empowering', 'empowers', 'empresa', 'empress', 'empt', 'emptied', 'empty', 'emr', 'emphasised']\n",
      " ==== rape-oil === \n",
      "['rapeseed', 'stc', 'origin', 'optional', '321', 'cargo', 'cargoes', 'bought', 'processed', 'indian', 'refined', 'secretariat', 'valorem', 'purified', 'jun', '346', 'ideas', 'per', 'categories', 'fluid', 'attempted', 'india', '340', 'secure', 'comprised', 'secured', 'mexican', 'category', 'totalling', 'corporation']\n",
      " ==== rapeseed === \n",
      "[',', '000', 'tonnes', 'to', 'rapeseed', 'from', 'of', 'for', 'oil', 'canadian', 'crushers', 'japanese', '.', '6', 'business', 'bought', 'shipment', 'rose', 'in', 'said', 'usage', '600', 'sources', 'fell', '...', 'cpc', '800', 'trade', 'exports', '5']\n",
      " ==== reserves === \n",
      "['.', 'billion', 'the', 'in', ',', 'to', 'reserves', 'of', 'foreign', 'mln', 'bank', 'from', 's', 'dlrs', 'at', '-', 'and', 'end', 'exchange', 'february', 'rise', 'by', 'said', \"'\", 'rose', 'currency', 'francs', 'a', 'central', 'taiwan']\n",
      " ==== retail === \n",
      "['.', 'pct', 'sales', 'in', ',', 'february', 'january', '1', 'a', 'retail', '0', '2', '4', '5', 'rose', '\"', 'u', 'the', '6', 'were', '3', '8', ',\"', 'after', '9', 's', '7', 'billion', 'to', 'mln']\n",
      " ==== rice === \n",
      "['rice', 'in', ',', 'the', 'and', 'said', 'weather', 'areas', 'nino', 'el', 'agriculture', 'drought', 'government', 'trade', 'rainfall', 'ministry', 'early', 'farm', 'rains', 'ascs', 'crop', 'thailand', 'agricultural', 'japan', 'dry', 'policy', 'february', 'northern', 'southern', 'years']\n",
      " ==== rubber === \n",
      "['the', ',', 'rubber', '.', 'price', 'at', 'and', '\"', 'in', 'pact', 'new', 'a', 'is', 'on', 'be', 'consumers', 'prices', '000', 'inra', 'conference', 'to', 'disease', 'or', 'may', 'tonnes', 'cents', 'agreement', 'by', '(', 'malaysian']\n",
      " ==== rye === \n",
      "['.', '--', '2', '1', '3', '4', '04', '50', '05', '54', '98', '90', '85', '70', 'gulf', '68', '49', '56', '73', '71', '17', '16', '75', '12', 'peoria', 'stockton', 'lou', 'sww', 'memphis', 'phil']\n",
      " ==== ship === \n",
      "['the', '.', ',', 'to', 'in', 'of', 's', 'and', 'a', 'said', 'on', '-', 'u', 'gulf', \"'\", 'was', 'iran', 'at', '\"', 'for', 'that', 'by', 'with', 'oil', 'strike', 'shipping', 'port', 'but', 'ships', 'had']\n",
      " ==== silver === \n",
      "[',', 'silver', '000', 'ounces', 'in', 'futures', 'coins', 'price', 'limits', 'market', 'trading', 'equity', 'spectra', 'physics', 'comex', 'ciba', 'geigy', 'contracts', 'at', 'production', 'neill', 'o', 'gold', 'placer', 'limit', 'metals', 'december', 'troy', 'back', 'elimination']\n",
      " ==== sorghum === \n",
      "['sorghum', 'per', 'payments', 'deficiency', '50', 'bushel', 'cash', 'receive', 'geplacea', 'half', 'payment', 'cts', 'difference', 'region', 'certs', 'rate', 'collins', 'national', 'webb', 'buenos', 'basic', 'aires', 'advance', 'latin', 'rose', 'dlrs', 'very', 'bahia', 'rosario', 'garlem']\n",
      " ==== soy-meal === \n",
      "['futures', 'exchange', 'markets', 'maxwell', 'schlumberger', 'drilling', 'activity', 'british', 'agricultural', 'services', 'harcourt', 'london', 'gafta', 'sweeney', 'baltic', 'rie', 'kerridge', 'freedman', 'dresser', 'grain', 'rigs', 'printing', 'tool', 'recovery', 'potato', 'gaspar', 'favorite', 'sandi', 'halliburton', 'biffex']\n",
      " ==== soy-oil === \n",
      "['.', '/', ',', '87', '1', '09', '0', '-', '2', '03', '04', '(', '1986', '4', '5', '--', '8', 'stocks', '86', '6', '7', ')', '1985', 'total', 'exports', 'in', 'mln', 'imports', '3', '10']\n",
      " ==== soybean === \n",
      "['.', ',', 'soybean', 's', 'u', 'soybeans', 'loan', 'a', 'bushels', 'usda', '\"', 'corn', '000', 'he', 'rate', 'export', 'at', 'marketing', 'agriculture', 'taiwan', 'the', 'exports', 'program', 'stocks', 'committee', 'production', '4', 'association', '1987', 'ago']\n",
      " ==== strategic-metal === \n",
      "['south', 'african', 'uranium', 'allied', 'campeau', 'u', 'oxide', 'ore', 's', 'treasury', 'imports', 'bull', 'honeywell', 'sec', 'stockpile', 'production', 'rare', 'prices', 'debartolo', 'goodyear', 'industry', 'china', 'states', 'allowing', 'proposed', 'passed', 'soviet', 'properties', 'agency', 'tonnes']\n",
      " ==== sugar === \n",
      "[',', '.', 'sugar', 'the', 'tonnes', 'in', '000', 'to', 'of', 'at', '/', 'and', 'for', 'a', 'mln', 'said', 'from', 'ec', 'traders', 'year', '-', 'production', 'was', 'intervention', 'this', 'beet', 'last', '(', 'white', 'they']\n",
      " ==== sun-meal === \n",
      "['pollard', '323', 'levied', '313', 'rpt', 'bran', 'expellers', '280', 'taxes', '264', 'groundnutseed', 'onwards', '330', '445', 'rapeseed', '320', '102', '274', 'minimum', '42', 'cake', 'meal', '101', 'fob', 'through', 'prices', '103', '450', '44', 'previous']\n",
      " ==== sun-oil === \n",
      "['(', ').', 'prev', 'oil', 'feb', 'apr', 'mar', 'sunflowerseed', '),', 'registrations', 'oilseed', ':', 'argentine', 'offers', 'board', 'egypt', 'brackets', 'adjusted', 'follows', 'vegetable', 'linseed', 'subproducts', 'jun', 'pellets', '290', 'cottonseed', 'products', '323', 'levied', 'pollard']\n",
      " ==== sunseed === \n",
      "['),', '(', 'textile', 'staley', 'board', 'simsa', 'dekalb', 'sunflower', 'kelly', 'hog', 'apparel', 'soybean', 'argentine', 'december', 'heinold', 'cbo', 'subproducts', 'linseed', '234', 'groundnutseed', '595', '049', '430', 'bran', 'protections', 'modern', 'protection', 'fit', 'added', 'congressional']\n",
      " ==== tea === \n",
      "['tea', 'pakistan', 'india', 'countertrade', 'indian', 'sources', 'state', 'had', 'trading', 'kenya', 'embassy', 'imports', 'metex', 'deals', 'exports', 'rigs', 'orange', 'food', 'radiation', 'hazelnuts', 'pakistani', 'import', 'moscow', 'trade', 'soviet', '000', 'reuters', 'policy', 'data', 'source']\n",
      " ==== tin === \n",
      "[',', 'tin', 'tonnes', '000', 'itc', 'council', 'bolivia', 'atpc', 'metal', 'price', 'market', 'exports', 'countries', 'international', 'year', 'court', 'quota', ')', 'export', 'thailand', 'member', 'mines', '4', 'stg', 'extension', 'delegates', 'members', '1', '(', 'miners']\n",
      " ==== trade === \n",
      "['.', 'the', 'to', ',', 'trade', 's', 'and', 'of', 'u', 'in', 'a', 'said', 'on', '\"', 'japan', 'that', 'he', \"'\", 'with', 'is', 'for', 'japanese', 'billion', '-', 'would', ',\"', 'as', 'by', 'be', 'countries']\n",
      " ==== veg-oil === \n",
      "['the', '.', ',', 'ec', 'and', 'to', 'tax', 'a', 'oils', 'on', 'of', 'would', 's', 'u', 'vegetable', 'fats', 'oil', 'trade', 'farm', 'community', 'be', 'european', 'he', 'proposed', '\"', 'by', 'ministers', 'countries', 'proposal', '(']\n",
      " ==== wheat === \n",
      "['the', '.', 'to', ',', 'wheat', 'of', 's', 'that', 'a', 'said', '\"', 'u', 'not', 'would', 'be', 'offer', 'is', 'an', 'soviet', \"'\", 'he', 'on', '92', 'agriculture', '-', ',\"', '/', 'lyng', 'eep', '0']\n",
      " ==== wpi === \n",
      "['.', 'pct', 'in', ',', 'the', 'prices', '0', 'february', 'a', 'january', '1', 'year', 'rose', 'and', 'after', 'index', 'rise', '-', '2', 'wholesale', 'said', '4', '3', 'from', 'price', '5', 'for', '9', '7', 'month']\n",
      " ==== yen === \n",
      "[',', 'yen', 'the', '.', 'japan', 's', 'japanese', 'bank', 'of', 'official', 'he', 'economy', 'dollar', 'bond', 'exchange', 'current', 'not', 'is', 'rise', 'senior', 'rates', 'are', 'nations', 'around', 'u', 'or', 'paris', 'major', 'futures', 'minister']\n",
      " ==== zinc === \n",
      "[',', '.', 'the', 'of', 'and', 'zinc', 'at', 'smelter', 'to', 'tonnes', 'locals', 'in', 'cominco', 'from', '000', 'year', 'trail', 'said', '-', 'with', 'workers', 'production', 'three', 'a', 'about', 'lead', '2', 'mine', 'contract', 'for']\n",
      " ==== COMMON === \n",
      "['the', '.', ',', 'of', 'to', 'said', 'a', 'in', 'and', 'it', 's', 'for', \"'\", '-', 'its', 'is', 'on', 'that', 'be', 'by', '\"', 'will', 'dlrs', 'pct', 'from', 'has', 'with', 'company', ';', '&']\n"
     ]
    }
   ],
   "source": [
    "for i, cat in enumerate(categories + ['COMMON']):\n",
    "    print(f' ==== {cat} === ')\n",
    "    rank = phi[i].argsort()[::-1]\n",
    "    print([vocabulary[j] for j in rank[:30]])"
   ]
  },
  {
   "cell_type": "code",
   "execution_count": 15,
   "metadata": {},
   "outputs": [],
   "source": [
    "theta_test = lda_model.transform(X_test, gibbs_burn_in=5, n_iter=100, n_workers=4)\n",
    "\n",
    "# remove \"common\" and renormalize\n",
    "theta_test = theta_test[:, :-1] / theta_test[:, :-1].sum(axis=1)[:, np.newaxis]"
   ]
  },
  {
   "cell_type": "code",
   "execution_count": 115,
   "metadata": {},
   "outputs": [
    {
     "data": {
      "text/plain": [
       "(array([ 233,  442,  450,  635,  987, 1020, 1409, 1488, 1546, 1694, 1933,\n",
       "        1993, 2013, 2252, 2393, 2471]),)"
      ]
     },
     "execution_count": 115,
     "metadata": {},
     "output_type": "execute_result"
    }
   ],
   "source": [
    "np.where(y_test[:, 88].toarray().ravel() > 0)"
   ]
  },
  {
   "cell_type": "code",
   "execution_count": 118,
   "metadata": {},
   "outputs": [
    {
     "name": "stdout",
     "output_type": "stream",
     "text": [
      "\" ['dlr', 'COMMON', 'trade']\n",
      "( ['yen', 'COMMON', 'money-fx']\n",
      ") ['dlr', 'COMMON', 'money-fx']\n",
      ", ['COMMON', 'dlr', 'yen']\n",
      ",\" ['dlr', 'COMMON', 'yen']\n",
      ". ['dlr', 'COMMON', 'money-fx']\n",
      "a ['COMMON', 'dlr', 'money-fx']\n",
      "added ['COMMON', 'money-fx', 'trade']\n",
      "against ['dlr', 'COMMON', 'money-fx']\n",
      "agreed ['yen', 'money-fx', 'COMMON']\n",
      "agreement ['dlr', 'COMMON', 'money-fx']\n",
      "conference ['COMMON', 'money-fx', 'trade']\n",
      "current ['yen', 'dlr', 'money-fx']\n",
      "discussions ['COMMON', 'trade', 'yen']\n",
      "dollar ['dlr', 'yen', 'money-fx']\n",
      "finance ['yen', 'dlr', 'money-fx']\n",
      "following ['COMMON', 'yen', 'coffee']\n",
      "group ['COMMON', 'dlr', 'yen']\n",
      "happened ['COMMON', 'money-fx', 'yen']\n",
      "has ['COMMON', 'dlr', 'money-fx']\n",
      "he ['dlr', 'yen', 'money-fx']\n",
      "here ['dlr', 'yen', 'COMMON']\n",
      "i ['yen', 'COMMON', 'money-fx']\n",
      "in ['dlr', 'COMMON', 'money-fx']\n",
      "indicating ['dlr', 'COMMON', 'yen']\n",
      "inside ['dlr', 'yen', 'COMMON']\n",
      "japanese ['yen', 'dlr', 'trade']\n",
      "kiichi ['yen', 'dlr', 'money-fx']\n",
      "louvre ['dlr', 'money-fx', 'COMMON']\n",
      "meeting ['money-fx', 'dlr', 'COMMON']\n",
      "minister ['yen', 'dlr', 'money-fx']\n",
      "miyazawa ['dlr', 'yen', 'money-fx']\n",
      "not ['dlr', 'COMMON', 'yen']\n",
      "occurred ['dlr', 'COMMON', 'money-fx']\n",
      "of ['COMMON', 'dlr', 'money-fx']\n",
      "on ['dlr', 'COMMON', 'trade']\n",
      "outside ['COMMON', 'yen', 'money-fx']\n",
      "paris ['dlr', 'yen', 'money-fx']\n",
      "past ['COMMON', 'money-fx', 'trade']\n",
      "place ['dlr', 'COMMON', 'trade']\n",
      "press ['COMMON', 'trade', 'yen']\n",
      "range ['yen', 'dlr', 'COMMON']\n",
      "reaffirmation ['money-fx', 'yen', 'dlr']\n",
      "said ['dlr', 'COMMON', 'money-fx']\n",
      "say ['yen', 'dlr', 'money-fx']\n",
      "says ['dlr', 'yen', 'money-fx']\n",
      "seven ['yen', 'dlr', 'money-fx']\n",
      "several ['dlr', 'COMMON', 'income']\n",
      "since ['dlr', 'COMMON', 'money-fx']\n",
      "solidarity ['yen', 'COMMON', 'instal-debt']\n",
      "still ['dlr', 'yen', 'COMMON']\n",
      "strengthening ['money-fx', 'COMMON', 'trade']\n",
      "that ['dlr', 'COMMON', 'money-fx']\n",
      "the ['dlr', 'COMMON', 'money-fx']\n",
      "to ['dlr', 'COMMON', 'money-fx']\n",
      "told ['dlr', 'yen', 'COMMON']\n",
      "was ['dlr', 'COMMON', 'money-fx']\n",
      "we ['COMMON', 'dlr', 'money-fx']\n",
      "weeks ['COMMON', 'money-fx', 'yen']\n",
      "were ['dlr', 'COMMON', 'money-fx']\n",
      "what ['yen', 'money-fx', 'trade']\n",
      "within ['dlr', 'money-fx', 'COMMON']\n",
      "would ['dlr', 'COMMON', 'money-fx']\n",
      "yen ['yen', 'dlr', 'money-fx']\n"
     ]
    }
   ],
   "source": [
    "theta, assigns = lda_model.word_topic_assignment(X_test[442], gibbs_burn_in=10, n_iter=100, random_seed=43)[0]\n",
    "\n",
    "for word, cnts in assigns[0].items():\n",
    "    print(vocabulary[word], [(categories + ['COMMON'])[j] for j in cnts.argsort()[::-1][:3]])\n",
    "    pass"
   ]
  },
  {
   "cell_type": "code",
   "execution_count": 96,
   "metadata": {},
   "outputs": [],
   "source": [
    "# constant model\n",
    "constant_predictor = y_train[:, :-1].sum(axis=0).astype(np.float64).A1 / y_train[:, :-1].sum()\n",
    "constant_predictor += 1e-15\n",
    "constant_predictor /= constant_predictor.sum()"
   ]
  },
  {
   "cell_type": "code",
   "execution_count": 17,
   "metadata": {},
   "outputs": [
    {
     "name": "stdout",
     "output_type": "stream",
     "text": [
      "log_loss of contant model: 3.570\n",
      "log_loss of labelled lda theta: 1.748\n"
     ]
    }
   ],
   "source": [
    "# vs top popular\n",
    "print(\n",
    "    'log_loss of contant model: {:.3f}'.format(\n",
    "        -(np.log(constant_predictor)[np.newaxis, :] * y_test[:, :-1].toarray()).sum(axis=1).mean()        \n",
    "    )\n",
    ")\n",
    "\n",
    "print(\n",
    "    'log_loss of labelled lda theta: {:.3f}'.format(\n",
    "        - (np.log(theta_test) * y_test[:, :-1].toarray()).sum(axis=1)[-3]\n",
    "    )\n",
    ")"
   ]
  },
  {
   "cell_type": "code",
   "execution_count": null,
   "metadata": {},
   "outputs": [],
   "source": []
  }
 ],
 "metadata": {
  "kernelspec": {
   "display_name": "Python 3",
   "language": "python",
   "name": "python3"
  },
  "language_info": {
   "codemirror_mode": {
    "name": "ipython",
    "version": 3
   },
   "file_extension": ".py",
   "mimetype": "text/x-python",
   "name": "python",
   "nbconvert_exporter": "python",
   "pygments_lexer": "ipython3",
   "version": "3.7.1"
  }
 },
 "nbformat": 4,
 "nbformat_minor": 4
}
